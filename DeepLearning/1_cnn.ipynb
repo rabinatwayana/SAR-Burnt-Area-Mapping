{
 "cells": [
  {
   "cell_type": "code",
   "execution_count": null,
   "metadata": {},
   "outputs": [],
   "source": [
    "# https://medium.com/@mayankverma05032001/binary-classification-using-convolution-neural-network-cnn-model-6e35cdf5bdbb#:~:text=Binary%20Classification%20Using%20Convolution%20Neural%20Network%20(CNN)%20Model,-Mayank%20Verma&text=Binary%20classification%20is%20used%20in,like%20Color%2C%20weight%2C%20etc.\n",
    "# https://www.kaggle.com/code/mostafizur1997/binary-image-classification-using-cnn\n",
    "# https://ieeexplore.ieee.org/document/7394333\n",
    "\n",
    "# https://github.com/pandeydivyank/SAR-Image-segmentation/tree/master\n",
    "\n",
    "import rasterio\n",
    "import numpy as np\n",
    "from tensorflow.keras.layers import Input, concatenate, Conv2D, MaxPooling2D, Conv2DTranspose\n",
    "from tensorflow.keras.models import Model"
   ]
  },
  {
   "cell_type": "code",
   "execution_count": 2,
   "metadata": {},
   "outputs": [],
   "source": [
    "# input_sar_image_path  = \"../MachineLearning/input/eaton_s1_ready.tif\"\n",
    "# input_label_image_path=\"input/eaton_dnbr_label.tif\"\n",
    "# output_model_path=\"output/model/unet_model_eaton.h5\"\n",
    "\n",
    "input_sar_image_path  = \"../MachineLearning/input/palisades_s1_ready.tif\"\n",
    "input_label_image_path=\"input/palisades_dnbr_label.tif\"\n",
    "output_model_path=\"output/model/unet_model_palisades_8p.h5\""
   ]
  },
  {
   "cell_type": "code",
   "execution_count": 3,
   "metadata": {},
   "outputs": [],
   "source": [
    "# Load input image (tif)\n",
    "with rasterio.open(input_sar_image_path) as src:\n",
    "    input_image = src.read([1, 2, 3,4])  # Read all RGB bands (assuming 3 bands)\n",
    "    input_image = np.moveaxis(input_image, 0, -1)  # Shape: (height, width, channels)\n",
    "\n",
    "# Load label image (tif)\n",
    "with rasterio.open(input_label_image_path) as src:\n",
    "    label_image = src.read(1)  # Assuming the label is a single band\n",
    "    meta = src.meta.copy()"
   ]
  },
  {
   "cell_type": "code",
   "execution_count": 4,
   "metadata": {},
   "outputs": [
    {
     "name": "stdout",
     "output_type": "stream",
     "text": [
      "(473125, 8, 8, 4)\n"
     ]
    }
   ],
   "source": [
    "patch_size =  8  # Size of each patch (64x64 pixels), 32\n",
    "stride = 6  # Stride for moving the patch across the image, 14\n",
    "# patch_size = 64  # Size of each patch (64x64 pixels)\n",
    "# stride = 32  # Stride for moving the patch across the image\n",
    "\n",
    "def extract_patches(image, label, patch_size, stride):\n",
    "    patches = []\n",
    "    label_patches = []\n",
    "    height, width, _ = image.shape\n",
    "    for y in range(0, height - patch_size, stride):\n",
    "        for x in range(0, width - patch_size, stride):\n",
    "            patch = image[y:y + patch_size, x:x + patch_size, :]\n",
    "            label_patch = label[y:y + patch_size, x:x + patch_size]\n",
    "            patches.append(patch)\n",
    "            label_patches.append(label_patch)\n",
    "    return np.array(patches), np.array(label_patches)\n",
    "\n",
    "# Extract patches from both input image and label image\n",
    "X_patches, y_patches = extract_patches(input_image, label_image, patch_size, stride)\n",
    "\n",
    "print(X_patches.shape)\n"
   ]
  },
  {
   "cell_type": "code",
   "execution_count": 5,
   "metadata": {},
   "outputs": [
    {
     "name": "stdout",
     "output_type": "stream",
     "text": [
      "Train data: (236562, 8, 8, 4)\n",
      "train label data: (236562, 8, 8, 1)\n",
      "Validation data: (118281, 8, 8, 4)\n",
      "Test data: (118282, 8, 8, 4)\n"
     ]
    }
   ],
   "source": [
    "from sklearn.model_selection import train_test_split\n",
    "\n",
    "# Split the dataset into training and testing sets (80-20 split)\n",
    "X_train, X_temp, y_train, y_temp = train_test_split(X_patches, y_patches, test_size=0.50, random_state=42)\n",
    "# Split the remaining data into validation and testing sets (50-50 split)\n",
    "X_val, X_test, y_val, y_test = train_test_split(X_temp, y_temp, test_size=0.5, random_state=42)\n",
    "\n",
    "y_train = np.expand_dims(y_train, axis=-1)\n",
    "y_val=np.expand_dims(y_val, axis=-1)\n",
    "y_test=np.expand_dims(y_test, axis=-1)\n",
    "print(f\"Train data: {X_train.shape}\")\n",
    "print(f\"train label data: {y_train.shape}\")\n",
    "\n",
    "print(f\"Validation data: {X_val.shape}\")\n",
    "print(f\"Test data: {X_test.shape}\")\n"
   ]
  },
  {
   "cell_type": "code",
   "execution_count": 6,
   "metadata": {},
   "outputs": [],
   "source": [
    "# from tensorflow.keras.layers import Input, concatenate\n",
    "# from tensorflow.keras.models import Model\n",
    "# from tensorflow.keras.layers import Conv2D, MaxPooling2D, Conv2DTranspose, BatchNormalization\n",
    "\n",
    "\n",
    "# def unet_model(input_shape=(patch_size, patch_size, 4)):\n",
    "#     inputs = Input(input_shape)\n",
    "\n",
    "#     # Encoder\n",
    "#     conv1 = Conv2D(32, (3, 3), activation='relu', padding='same')(inputs)\n",
    "#     pool1 = MaxPooling2D((2, 2), padding='same')(conv1)\n",
    "\n",
    "#     conv2 = Conv2D(64, (3, 3), activation='relu', padding='same')(pool1)\n",
    "#     pool2 = MaxPooling2D((2, 2), padding='same')(conv2)\n",
    "\n",
    "#     conv3 = Conv2D(128, (3, 3), activation='relu', padding='same')(pool2)\n",
    "#     pool3 = MaxPooling2D((2, 2), padding='same')(conv3)\n",
    "\n",
    "#     # Bottleneck\n",
    "#     conv4 = Conv2D(256, (3, 3), activation='relu', padding='same')(pool3)\n",
    "\n",
    "#     # Decoder (Upsampling + Skip Connections)\n",
    "#     up1 = Conv2DTranspose(128, (3, 3), strides=2, activation='relu', padding='same')(conv4)\n",
    "#     concat1 = concatenate([up1, conv3])\n",
    "\n",
    "#     up2 = Conv2DTranspose(64, (3, 3), strides=2, activation='relu', padding='same')(concat1)\n",
    "#     concat2 = concatenate([up2, conv2])\n",
    "\n",
    "#     up3 = Conv2DTranspose(32, (3, 3), strides=2, activation='relu', padding='same')(concat2)\n",
    "#     concat3 = concatenate([up3, conv1])\n",
    "\n",
    "#     outputs = Conv2D(1, (1, 1), activation='sigmoid', padding='same')(concat3)\n",
    "\n",
    "#     model = Model(inputs, outputs)\n",
    "#     return model\n",
    "\n",
    "# # Build U-Net model\n",
    "# model = unet_model()\n",
    "# model.compile(optimizer='adam', loss='binary_crossentropy', metrics=['accuracy'])\n",
    "\n",
    "# # Model summary\n",
    "# model.summary()\n"
   ]
  },
  {
   "cell_type": "code",
   "execution_count": 7,
   "metadata": {},
   "outputs": [],
   "source": [
    "# from tensorflow.keras.layers import Input, concatenate\n",
    "# from tensorflow.keras.models import Model\n",
    "# from tensorflow.keras.layers import Conv2D, MaxPooling2D, Conv2DTranspose, BatchNormalization\n",
    "\n",
    "\n",
    "# def unet_model(input_shape=(patch_size, patch_size, 4)):\n",
    "#     inputs = Input(input_shape)\n",
    "\n",
    "#     # Encoder\n",
    "#     conv1 = Conv2D(32, (3, 3), activation='relu', padding='same')(inputs)\n",
    "#     pool1 = MaxPooling2D((2, 2), padding='same')(conv1)\n",
    "\n",
    "#     conv2 = Conv2D(64, (3, 3), activation='relu', padding='same')(pool1)\n",
    "#     pool2 = MaxPooling2D((2, 2), padding='same')(conv2)\n",
    "\n",
    "#     conv3 = Conv2D(128, (3, 3), activation='relu', padding='same')(pool2)\n",
    "#     pool3 = MaxPooling2D((2, 2), padding='same')(conv3)\n",
    "\n",
    "#     # Bottleneck\n",
    "#     conv4 = Conv2D(256, (3, 3), activation='relu', padding='same')(pool3)\n",
    "\n",
    "#     # Decoder (Upsampling + Skip Connections)\n",
    "#     up1 = Conv2DTranspose(128, (3, 3), strides=2, activation='relu', padding='same')(conv4)\n",
    "#     concat1 = concatenate([up1, conv3])\n",
    "\n",
    "#     up2 = Conv2DTranspose(64, (3, 3), strides=2, activation='relu', padding='same')(concat1)\n",
    "#     concat2 = concatenate([up2, conv2])\n",
    "\n",
    "#     up3 = Conv2DTranspose(32, (3, 3), strides=2, activation='relu', padding='same')(concat2)\n",
    "#     concat3 = concatenate([up3, conv1])\n",
    "\n",
    "#     outputs = Conv2D(1, (1, 1), activation='sigmoid', padding='same')(concat3)\n",
    "\n",
    "#     model = Model(inputs, outputs)\n",
    "#     return model\n",
    "\n",
    "# # Build U-Net model\n",
    "# model = unet_model()\n",
    "# model.compile(optimizer='adam', loss='binary_crossentropy', metrics=['accuracy'])\n",
    "\n",
    "# # Model summary\n",
    "# model.summary()"
   ]
  },
  {
   "cell_type": "code",
   "execution_count": 8,
   "metadata": {},
   "outputs": [],
   "source": [
    "\n",
    "\n",
    "# def unet_model(input_shape=(patch_size, patch_size, 4)):\n",
    "#     inputs = Input(input_shape)\n",
    "\n",
    "#     # Encoder (Reduced Depth)\n",
    "#     conv1 = Conv2D(32, (3, 3), activation='relu', padding='same')(inputs)\n",
    "#     pool1 = MaxPooling2D((2, 2), padding='same')(conv1)\n",
    "\n",
    "#     conv2 = Conv2D(64, (3, 3), activation='relu', padding='same')(pool1)\n",
    "#     pool2 = MaxPooling2D((2, 2), padding='same')(conv2)\n",
    "\n",
    "#     # Bottleneck\n",
    "#     conv3 = Conv2D(128, (3, 3), activation='relu', padding='same')(pool2)\n",
    "\n",
    "#     # Decoder (Less Aggressive Upsampling)\n",
    "#     up1 = Conv2DTranspose(64, (3, 3), strides=2, activation='relu', padding='same')(conv3)\n",
    "#     concat1 = concatenate([up1, conv2])\n",
    "\n",
    "#     up2 = Conv2DTranspose(32, (3, 3), strides=2, activation='relu', padding='same')(concat1)\n",
    "#     concat2 = concatenate([up2, conv1])\n",
    "\n",
    "#     outputs = Conv2D(1, (1, 1), activation='sigmoid', padding='same')(concat2)\n",
    "\n",
    "#     model = Model(inputs, outputs)\n",
    "#     return model\n",
    "\n",
    "# # Build and compile the U-Net model\n",
    "# model = unet_model()\n",
    "# model.compile(optimizer='adam', loss='binary_crossentropy', metrics=['accuracy'])\n",
    "\n",
    "# # Model summary\n",
    "# model.summary()\n",
    "\n",
    "# # Build U-Net model\n",
    "# model = unet_model()\n",
    "# model.compile(optimizer='adam', loss='binary_crossentropy', metrics=['accuracy'])\n",
    "\n",
    "# # Model summary\n",
    "# # model.summary()\n"
   ]
  },
  {
   "cell_type": "code",
   "execution_count": 12,
   "metadata": {},
   "outputs": [
    {
     "data": {
      "text/html": [
       "<pre style=\"white-space:pre;overflow-x:auto;line-height:normal;font-family:Menlo,'DejaVu Sans Mono',consolas,'Courier New',monospace\"><span style=\"font-weight: bold\">Model: \"functional_1\"</span>\n",
       "</pre>\n"
      ],
      "text/plain": [
       "\u001b[1mModel: \"functional_1\"\u001b[0m\n"
      ]
     },
     "metadata": {},
     "output_type": "display_data"
    },
    {
     "data": {
      "text/html": [
       "<pre style=\"white-space:pre;overflow-x:auto;line-height:normal;font-family:Menlo,'DejaVu Sans Mono',consolas,'Courier New',monospace\">┏━━━━━━━━━━━━━━━━━━━━━┳━━━━━━━━━━━━━━━━━━━┳━━━━━━━━━━━━┳━━━━━━━━━━━━━━━━━━━┓\n",
       "┃<span style=\"font-weight: bold\"> Layer (type)        </span>┃<span style=\"font-weight: bold\"> Output Shape      </span>┃<span style=\"font-weight: bold\">    Param # </span>┃<span style=\"font-weight: bold\"> Connected to      </span>┃\n",
       "┡━━━━━━━━━━━━━━━━━━━━━╇━━━━━━━━━━━━━━━━━━━╇━━━━━━━━━━━━╇━━━━━━━━━━━━━━━━━━━┩\n",
       "│ input_layer_1       │ (<span style=\"color: #00d7ff; text-decoration-color: #00d7ff\">None</span>, <span style=\"color: #00af00; text-decoration-color: #00af00\">8</span>, <span style=\"color: #00af00; text-decoration-color: #00af00\">8</span>, <span style=\"color: #00af00; text-decoration-color: #00af00\">4</span>)   │          <span style=\"color: #00af00; text-decoration-color: #00af00\">0</span> │ -                 │\n",
       "│ (<span style=\"color: #0087ff; text-decoration-color: #0087ff\">InputLayer</span>)        │                   │            │                   │\n",
       "├─────────────────────┼───────────────────┼────────────┼───────────────────┤\n",
       "│ conv2d_6 (<span style=\"color: #0087ff; text-decoration-color: #0087ff\">Conv2D</span>)   │ (<span style=\"color: #00d7ff; text-decoration-color: #00d7ff\">None</span>, <span style=\"color: #00af00; text-decoration-color: #00af00\">8</span>, <span style=\"color: #00af00; text-decoration-color: #00af00\">8</span>, <span style=\"color: #00af00; text-decoration-color: #00af00\">32</span>)  │      <span style=\"color: #00af00; text-decoration-color: #00af00\">1,184</span> │ input_layer_1[<span style=\"color: #00af00; text-decoration-color: #00af00\">0</span>]… │\n",
       "├─────────────────────┼───────────────────┼────────────┼───────────────────┤\n",
       "│ max_pooling2d_2     │ (<span style=\"color: #00d7ff; text-decoration-color: #00d7ff\">None</span>, <span style=\"color: #00af00; text-decoration-color: #00af00\">4</span>, <span style=\"color: #00af00; text-decoration-color: #00af00\">4</span>, <span style=\"color: #00af00; text-decoration-color: #00af00\">32</span>)  │          <span style=\"color: #00af00; text-decoration-color: #00af00\">0</span> │ conv2d_6[<span style=\"color: #00af00; text-decoration-color: #00af00\">0</span>][<span style=\"color: #00af00; text-decoration-color: #00af00\">0</span>]    │\n",
       "│ (<span style=\"color: #0087ff; text-decoration-color: #0087ff\">MaxPooling2D</span>)      │                   │            │                   │\n",
       "├─────────────────────┼───────────────────┼────────────┼───────────────────┤\n",
       "│ conv2d_7 (<span style=\"color: #0087ff; text-decoration-color: #0087ff\">Conv2D</span>)   │ (<span style=\"color: #00d7ff; text-decoration-color: #00d7ff\">None</span>, <span style=\"color: #00af00; text-decoration-color: #00af00\">4</span>, <span style=\"color: #00af00; text-decoration-color: #00af00\">4</span>, <span style=\"color: #00af00; text-decoration-color: #00af00\">64</span>)  │     <span style=\"color: #00af00; text-decoration-color: #00af00\">18,496</span> │ max_pooling2d_2[<span style=\"color: #00af00; text-decoration-color: #00af00\">…</span> │\n",
       "├─────────────────────┼───────────────────┼────────────┼───────────────────┤\n",
       "│ max_pooling2d_3     │ (<span style=\"color: #00d7ff; text-decoration-color: #00d7ff\">None</span>, <span style=\"color: #00af00; text-decoration-color: #00af00\">2</span>, <span style=\"color: #00af00; text-decoration-color: #00af00\">2</span>, <span style=\"color: #00af00; text-decoration-color: #00af00\">64</span>)  │          <span style=\"color: #00af00; text-decoration-color: #00af00\">0</span> │ conv2d_7[<span style=\"color: #00af00; text-decoration-color: #00af00\">0</span>][<span style=\"color: #00af00; text-decoration-color: #00af00\">0</span>]    │\n",
       "│ (<span style=\"color: #0087ff; text-decoration-color: #0087ff\">MaxPooling2D</span>)      │                   │            │                   │\n",
       "├─────────────────────┼───────────────────┼────────────┼───────────────────┤\n",
       "│ conv2d_8 (<span style=\"color: #0087ff; text-decoration-color: #0087ff\">Conv2D</span>)   │ (<span style=\"color: #00d7ff; text-decoration-color: #00d7ff\">None</span>, <span style=\"color: #00af00; text-decoration-color: #00af00\">2</span>, <span style=\"color: #00af00; text-decoration-color: #00af00\">2</span>, <span style=\"color: #00af00; text-decoration-color: #00af00\">128</span>) │     <span style=\"color: #00af00; text-decoration-color: #00af00\">73,856</span> │ max_pooling2d_3[<span style=\"color: #00af00; text-decoration-color: #00af00\">…</span> │\n",
       "├─────────────────────┼───────────────────┼────────────┼───────────────────┤\n",
       "│ up_sampling2d_2     │ (<span style=\"color: #00d7ff; text-decoration-color: #00d7ff\">None</span>, <span style=\"color: #00af00; text-decoration-color: #00af00\">4</span>, <span style=\"color: #00af00; text-decoration-color: #00af00\">4</span>, <span style=\"color: #00af00; text-decoration-color: #00af00\">128</span>) │          <span style=\"color: #00af00; text-decoration-color: #00af00\">0</span> │ conv2d_8[<span style=\"color: #00af00; text-decoration-color: #00af00\">0</span>][<span style=\"color: #00af00; text-decoration-color: #00af00\">0</span>]    │\n",
       "│ (<span style=\"color: #0087ff; text-decoration-color: #0087ff\">UpSampling2D</span>)      │                   │            │                   │\n",
       "├─────────────────────┼───────────────────┼────────────┼───────────────────┤\n",
       "│ conv2d_9 (<span style=\"color: #0087ff; text-decoration-color: #0087ff\">Conv2D</span>)   │ (<span style=\"color: #00d7ff; text-decoration-color: #00d7ff\">None</span>, <span style=\"color: #00af00; text-decoration-color: #00af00\">4</span>, <span style=\"color: #00af00; text-decoration-color: #00af00\">4</span>, <span style=\"color: #00af00; text-decoration-color: #00af00\">64</span>)  │     <span style=\"color: #00af00; text-decoration-color: #00af00\">73,792</span> │ up_sampling2d_2[<span style=\"color: #00af00; text-decoration-color: #00af00\">…</span> │\n",
       "├─────────────────────┼───────────────────┼────────────┼───────────────────┤\n",
       "│ concatenate_2       │ (<span style=\"color: #00d7ff; text-decoration-color: #00d7ff\">None</span>, <span style=\"color: #00af00; text-decoration-color: #00af00\">4</span>, <span style=\"color: #00af00; text-decoration-color: #00af00\">4</span>, <span style=\"color: #00af00; text-decoration-color: #00af00\">128</span>) │          <span style=\"color: #00af00; text-decoration-color: #00af00\">0</span> │ conv2d_9[<span style=\"color: #00af00; text-decoration-color: #00af00\">0</span>][<span style=\"color: #00af00; text-decoration-color: #00af00\">0</span>],   │\n",
       "│ (<span style=\"color: #0087ff; text-decoration-color: #0087ff\">Concatenate</span>)       │                   │            │ conv2d_7[<span style=\"color: #00af00; text-decoration-color: #00af00\">0</span>][<span style=\"color: #00af00; text-decoration-color: #00af00\">0</span>]    │\n",
       "├─────────────────────┼───────────────────┼────────────┼───────────────────┤\n",
       "│ up_sampling2d_3     │ (<span style=\"color: #00d7ff; text-decoration-color: #00d7ff\">None</span>, <span style=\"color: #00af00; text-decoration-color: #00af00\">8</span>, <span style=\"color: #00af00; text-decoration-color: #00af00\">8</span>, <span style=\"color: #00af00; text-decoration-color: #00af00\">128</span>) │          <span style=\"color: #00af00; text-decoration-color: #00af00\">0</span> │ concatenate_2[<span style=\"color: #00af00; text-decoration-color: #00af00\">0</span>]… │\n",
       "│ (<span style=\"color: #0087ff; text-decoration-color: #0087ff\">UpSampling2D</span>)      │                   │            │                   │\n",
       "├─────────────────────┼───────────────────┼────────────┼───────────────────┤\n",
       "│ conv2d_10 (<span style=\"color: #0087ff; text-decoration-color: #0087ff\">Conv2D</span>)  │ (<span style=\"color: #00d7ff; text-decoration-color: #00d7ff\">None</span>, <span style=\"color: #00af00; text-decoration-color: #00af00\">8</span>, <span style=\"color: #00af00; text-decoration-color: #00af00\">8</span>, <span style=\"color: #00af00; text-decoration-color: #00af00\">32</span>)  │     <span style=\"color: #00af00; text-decoration-color: #00af00\">36,896</span> │ up_sampling2d_3[<span style=\"color: #00af00; text-decoration-color: #00af00\">…</span> │\n",
       "├─────────────────────┼───────────────────┼────────────┼───────────────────┤\n",
       "│ concatenate_3       │ (<span style=\"color: #00d7ff; text-decoration-color: #00d7ff\">None</span>, <span style=\"color: #00af00; text-decoration-color: #00af00\">8</span>, <span style=\"color: #00af00; text-decoration-color: #00af00\">8</span>, <span style=\"color: #00af00; text-decoration-color: #00af00\">64</span>)  │          <span style=\"color: #00af00; text-decoration-color: #00af00\">0</span> │ conv2d_10[<span style=\"color: #00af00; text-decoration-color: #00af00\">0</span>][<span style=\"color: #00af00; text-decoration-color: #00af00\">0</span>],  │\n",
       "│ (<span style=\"color: #0087ff; text-decoration-color: #0087ff\">Concatenate</span>)       │                   │            │ conv2d_6[<span style=\"color: #00af00; text-decoration-color: #00af00\">0</span>][<span style=\"color: #00af00; text-decoration-color: #00af00\">0</span>]    │\n",
       "├─────────────────────┼───────────────────┼────────────┼───────────────────┤\n",
       "│ conv2d_11 (<span style=\"color: #0087ff; text-decoration-color: #0087ff\">Conv2D</span>)  │ (<span style=\"color: #00d7ff; text-decoration-color: #00d7ff\">None</span>, <span style=\"color: #00af00; text-decoration-color: #00af00\">8</span>, <span style=\"color: #00af00; text-decoration-color: #00af00\">8</span>, <span style=\"color: #00af00; text-decoration-color: #00af00\">1</span>)   │         <span style=\"color: #00af00; text-decoration-color: #00af00\">65</span> │ concatenate_3[<span style=\"color: #00af00; text-decoration-color: #00af00\">0</span>]… │\n",
       "└─────────────────────┴───────────────────┴────────────┴───────────────────┘\n",
       "</pre>\n"
      ],
      "text/plain": [
       "┏━━━━━━━━━━━━━━━━━━━━━┳━━━━━━━━━━━━━━━━━━━┳━━━━━━━━━━━━┳━━━━━━━━━━━━━━━━━━━┓\n",
       "┃\u001b[1m \u001b[0m\u001b[1mLayer (type)       \u001b[0m\u001b[1m \u001b[0m┃\u001b[1m \u001b[0m\u001b[1mOutput Shape     \u001b[0m\u001b[1m \u001b[0m┃\u001b[1m \u001b[0m\u001b[1m   Param #\u001b[0m\u001b[1m \u001b[0m┃\u001b[1m \u001b[0m\u001b[1mConnected to     \u001b[0m\u001b[1m \u001b[0m┃\n",
       "┡━━━━━━━━━━━━━━━━━━━━━╇━━━━━━━━━━━━━━━━━━━╇━━━━━━━━━━━━╇━━━━━━━━━━━━━━━━━━━┩\n",
       "│ input_layer_1       │ (\u001b[38;5;45mNone\u001b[0m, \u001b[38;5;34m8\u001b[0m, \u001b[38;5;34m8\u001b[0m, \u001b[38;5;34m4\u001b[0m)   │          \u001b[38;5;34m0\u001b[0m │ -                 │\n",
       "│ (\u001b[38;5;33mInputLayer\u001b[0m)        │                   │            │                   │\n",
       "├─────────────────────┼───────────────────┼────────────┼───────────────────┤\n",
       "│ conv2d_6 (\u001b[38;5;33mConv2D\u001b[0m)   │ (\u001b[38;5;45mNone\u001b[0m, \u001b[38;5;34m8\u001b[0m, \u001b[38;5;34m8\u001b[0m, \u001b[38;5;34m32\u001b[0m)  │      \u001b[38;5;34m1,184\u001b[0m │ input_layer_1[\u001b[38;5;34m0\u001b[0m]… │\n",
       "├─────────────────────┼───────────────────┼────────────┼───────────────────┤\n",
       "│ max_pooling2d_2     │ (\u001b[38;5;45mNone\u001b[0m, \u001b[38;5;34m4\u001b[0m, \u001b[38;5;34m4\u001b[0m, \u001b[38;5;34m32\u001b[0m)  │          \u001b[38;5;34m0\u001b[0m │ conv2d_6[\u001b[38;5;34m0\u001b[0m][\u001b[38;5;34m0\u001b[0m]    │\n",
       "│ (\u001b[38;5;33mMaxPooling2D\u001b[0m)      │                   │            │                   │\n",
       "├─────────────────────┼───────────────────┼────────────┼───────────────────┤\n",
       "│ conv2d_7 (\u001b[38;5;33mConv2D\u001b[0m)   │ (\u001b[38;5;45mNone\u001b[0m, \u001b[38;5;34m4\u001b[0m, \u001b[38;5;34m4\u001b[0m, \u001b[38;5;34m64\u001b[0m)  │     \u001b[38;5;34m18,496\u001b[0m │ max_pooling2d_2[\u001b[38;5;34m…\u001b[0m │\n",
       "├─────────────────────┼───────────────────┼────────────┼───────────────────┤\n",
       "│ max_pooling2d_3     │ (\u001b[38;5;45mNone\u001b[0m, \u001b[38;5;34m2\u001b[0m, \u001b[38;5;34m2\u001b[0m, \u001b[38;5;34m64\u001b[0m)  │          \u001b[38;5;34m0\u001b[0m │ conv2d_7[\u001b[38;5;34m0\u001b[0m][\u001b[38;5;34m0\u001b[0m]    │\n",
       "│ (\u001b[38;5;33mMaxPooling2D\u001b[0m)      │                   │            │                   │\n",
       "├─────────────────────┼───────────────────┼────────────┼───────────────────┤\n",
       "│ conv2d_8 (\u001b[38;5;33mConv2D\u001b[0m)   │ (\u001b[38;5;45mNone\u001b[0m, \u001b[38;5;34m2\u001b[0m, \u001b[38;5;34m2\u001b[0m, \u001b[38;5;34m128\u001b[0m) │     \u001b[38;5;34m73,856\u001b[0m │ max_pooling2d_3[\u001b[38;5;34m…\u001b[0m │\n",
       "├─────────────────────┼───────────────────┼────────────┼───────────────────┤\n",
       "│ up_sampling2d_2     │ (\u001b[38;5;45mNone\u001b[0m, \u001b[38;5;34m4\u001b[0m, \u001b[38;5;34m4\u001b[0m, \u001b[38;5;34m128\u001b[0m) │          \u001b[38;5;34m0\u001b[0m │ conv2d_8[\u001b[38;5;34m0\u001b[0m][\u001b[38;5;34m0\u001b[0m]    │\n",
       "│ (\u001b[38;5;33mUpSampling2D\u001b[0m)      │                   │            │                   │\n",
       "├─────────────────────┼───────────────────┼────────────┼───────────────────┤\n",
       "│ conv2d_9 (\u001b[38;5;33mConv2D\u001b[0m)   │ (\u001b[38;5;45mNone\u001b[0m, \u001b[38;5;34m4\u001b[0m, \u001b[38;5;34m4\u001b[0m, \u001b[38;5;34m64\u001b[0m)  │     \u001b[38;5;34m73,792\u001b[0m │ up_sampling2d_2[\u001b[38;5;34m…\u001b[0m │\n",
       "├─────────────────────┼───────────────────┼────────────┼───────────────────┤\n",
       "│ concatenate_2       │ (\u001b[38;5;45mNone\u001b[0m, \u001b[38;5;34m4\u001b[0m, \u001b[38;5;34m4\u001b[0m, \u001b[38;5;34m128\u001b[0m) │          \u001b[38;5;34m0\u001b[0m │ conv2d_9[\u001b[38;5;34m0\u001b[0m][\u001b[38;5;34m0\u001b[0m],   │\n",
       "│ (\u001b[38;5;33mConcatenate\u001b[0m)       │                   │            │ conv2d_7[\u001b[38;5;34m0\u001b[0m][\u001b[38;5;34m0\u001b[0m]    │\n",
       "├─────────────────────┼───────────────────┼────────────┼───────────────────┤\n",
       "│ up_sampling2d_3     │ (\u001b[38;5;45mNone\u001b[0m, \u001b[38;5;34m8\u001b[0m, \u001b[38;5;34m8\u001b[0m, \u001b[38;5;34m128\u001b[0m) │          \u001b[38;5;34m0\u001b[0m │ concatenate_2[\u001b[38;5;34m0\u001b[0m]… │\n",
       "│ (\u001b[38;5;33mUpSampling2D\u001b[0m)      │                   │            │                   │\n",
       "├─────────────────────┼───────────────────┼────────────┼───────────────────┤\n",
       "│ conv2d_10 (\u001b[38;5;33mConv2D\u001b[0m)  │ (\u001b[38;5;45mNone\u001b[0m, \u001b[38;5;34m8\u001b[0m, \u001b[38;5;34m8\u001b[0m, \u001b[38;5;34m32\u001b[0m)  │     \u001b[38;5;34m36,896\u001b[0m │ up_sampling2d_3[\u001b[38;5;34m…\u001b[0m │\n",
       "├─────────────────────┼───────────────────┼────────────┼───────────────────┤\n",
       "│ concatenate_3       │ (\u001b[38;5;45mNone\u001b[0m, \u001b[38;5;34m8\u001b[0m, \u001b[38;5;34m8\u001b[0m, \u001b[38;5;34m64\u001b[0m)  │          \u001b[38;5;34m0\u001b[0m │ conv2d_10[\u001b[38;5;34m0\u001b[0m][\u001b[38;5;34m0\u001b[0m],  │\n",
       "│ (\u001b[38;5;33mConcatenate\u001b[0m)       │                   │            │ conv2d_6[\u001b[38;5;34m0\u001b[0m][\u001b[38;5;34m0\u001b[0m]    │\n",
       "├─────────────────────┼───────────────────┼────────────┼───────────────────┤\n",
       "│ conv2d_11 (\u001b[38;5;33mConv2D\u001b[0m)  │ (\u001b[38;5;45mNone\u001b[0m, \u001b[38;5;34m8\u001b[0m, \u001b[38;5;34m8\u001b[0m, \u001b[38;5;34m1\u001b[0m)   │         \u001b[38;5;34m65\u001b[0m │ concatenate_3[\u001b[38;5;34m0\u001b[0m]… │\n",
       "└─────────────────────┴───────────────────┴────────────┴───────────────────┘\n"
      ]
     },
     "metadata": {},
     "output_type": "display_data"
    },
    {
     "data": {
      "text/html": [
       "<pre style=\"white-space:pre;overflow-x:auto;line-height:normal;font-family:Menlo,'DejaVu Sans Mono',consolas,'Courier New',monospace\"><span style=\"font-weight: bold\"> Total params: </span><span style=\"color: #00af00; text-decoration-color: #00af00\">204,289</span> (798.00 KB)\n",
       "</pre>\n"
      ],
      "text/plain": [
       "\u001b[1m Total params: \u001b[0m\u001b[38;5;34m204,289\u001b[0m (798.00 KB)\n"
      ]
     },
     "metadata": {},
     "output_type": "display_data"
    },
    {
     "data": {
      "text/html": [
       "<pre style=\"white-space:pre;overflow-x:auto;line-height:normal;font-family:Menlo,'DejaVu Sans Mono',consolas,'Courier New',monospace\"><span style=\"font-weight: bold\"> Trainable params: </span><span style=\"color: #00af00; text-decoration-color: #00af00\">204,289</span> (798.00 KB)\n",
       "</pre>\n"
      ],
      "text/plain": [
       "\u001b[1m Trainable params: \u001b[0m\u001b[38;5;34m204,289\u001b[0m (798.00 KB)\n"
      ]
     },
     "metadata": {},
     "output_type": "display_data"
    },
    {
     "data": {
      "text/html": [
       "<pre style=\"white-space:pre;overflow-x:auto;line-height:normal;font-family:Menlo,'DejaVu Sans Mono',consolas,'Courier New',monospace\"><span style=\"font-weight: bold\"> Non-trainable params: </span><span style=\"color: #00af00; text-decoration-color: #00af00\">0</span> (0.00 B)\n",
       "</pre>\n"
      ],
      "text/plain": [
       "\u001b[1m Non-trainable params: \u001b[0m\u001b[38;5;34m0\u001b[0m (0.00 B)\n"
      ]
     },
     "metadata": {},
     "output_type": "display_data"
    }
   ],
   "source": [
    "from tensorflow.keras.layers import Input, Conv2D, MaxPooling2D, UpSampling2D, concatenate\n",
    "from tensorflow.keras.models import Model\n",
    "\n",
    "def unet_model(input_shape=(patch_size, patch_size, 4)):\n",
    "    inputs = Input(input_shape)\n",
    "\n",
    "    # Encoder (Reduced Depth)\n",
    "    conv1 = Conv2D(32, (3, 3), activation='relu', padding='same')(inputs)\n",
    "    pool1 = MaxPooling2D((2, 2), padding='same')(conv1)\n",
    "\n",
    "    conv2 = Conv2D(64, (3, 3), activation='relu', padding='same')(pool1)\n",
    "    pool2 = MaxPooling2D((2, 2), padding='same')(conv2)\n",
    "\n",
    "    # Bottleneck\n",
    "    conv3 = Conv2D(128, (3, 3), activation='relu', padding='same')(pool2)\n",
    "\n",
    "    # Decoder with UpSampling2D and Conv2D to match dimensions\n",
    "    up1 = UpSampling2D(size=(2,2))(conv3)\n",
    "    up1 = Conv2D(64, (3, 3), activation='relu', padding='same')(up1)  # Adjust dimensions\n",
    "    concat1 = concatenate([up1, conv2])\n",
    "\n",
    "    up2 = UpSampling2D(size=(2,2))(concat1)\n",
    "    up2 = Conv2D(32, (3, 3), activation='relu', padding='same')(up2)  # Adjust dimensions\n",
    "    concat2 = concatenate([up2, conv1])\n",
    "\n",
    "    outputs = Conv2D(1, (1, 1), activation='sigmoid', padding='same')(concat2)\n",
    "\n",
    "    model = Model(inputs, outputs)\n",
    "    return model\n",
    "\n",
    "# Create model instance\n",
    "model = unet_model()\n",
    "\n",
    "\n",
    "model.summary()"
   ]
  },
  {
   "cell_type": "code",
   "execution_count": 13,
   "metadata": {},
   "outputs": [
    {
     "name": "stdout",
     "output_type": "stream",
     "text": [
      "Epoch 1/10\n",
      "\u001b[1m7393/7393\u001b[0m \u001b[32m━━━━━━━━━━━━━━━━━━━━\u001b[0m\u001b[37m\u001b[0m \u001b[1m61s\u001b[0m 8ms/step - accuracy: 0.9448 - loss: 0.1830 - val_accuracy: 0.9494 - val_loss: 0.1482\n",
      "Epoch 2/10\n",
      "\u001b[1m7393/7393\u001b[0m \u001b[32m━━━━━━━━━━━━━━━━━━━━\u001b[0m\u001b[37m\u001b[0m \u001b[1m59s\u001b[0m 8ms/step - accuracy: 0.9486 - loss: 0.1449 - val_accuracy: 0.9505 - val_loss: 0.1464\n",
      "Epoch 3/10\n",
      "\u001b[1m7393/7393\u001b[0m \u001b[32m━━━━━━━━━━━━━━━━━━━━\u001b[0m\u001b[37m\u001b[0m \u001b[1m65s\u001b[0m 9ms/step - accuracy: 0.9508 - loss: 0.1382 - val_accuracy: 0.9523 - val_loss: 0.1351\n",
      "Epoch 4/10\n",
      "\u001b[1m7393/7393\u001b[0m \u001b[32m━━━━━━━━━━━━━━━━━━━━\u001b[0m\u001b[37m\u001b[0m \u001b[1m73s\u001b[0m 10ms/step - accuracy: 0.9523 - loss: 0.1333 - val_accuracy: 0.9530 - val_loss: 0.1319\n",
      "Epoch 5/10\n",
      "\u001b[1m7393/7393\u001b[0m \u001b[32m━━━━━━━━━━━━━━━━━━━━\u001b[0m\u001b[37m\u001b[0m \u001b[1m77s\u001b[0m 10ms/step - accuracy: 0.9538 - loss: 0.1297 - val_accuracy: 0.9531 - val_loss: 0.1332\n",
      "Epoch 6/10\n",
      "\u001b[1m7393/7393\u001b[0m \u001b[32m━━━━━━━━━━━━━━━━━━━━\u001b[0m\u001b[37m\u001b[0m \u001b[1m267s\u001b[0m 36ms/step - accuracy: 0.9538 - loss: 0.1284 - val_accuracy: 0.9542 - val_loss: 0.1324\n",
      "Epoch 7/10\n",
      "\u001b[1m7393/7393\u001b[0m \u001b[32m━━━━━━━━━━━━━━━━━━━━\u001b[0m\u001b[37m\u001b[0m \u001b[1m69s\u001b[0m 9ms/step - accuracy: 0.9548 - loss: 0.1255 - val_accuracy: 0.9544 - val_loss: 0.1299\n",
      "Epoch 8/10\n",
      "\u001b[1m7393/7393\u001b[0m \u001b[32m━━━━━━━━━━━━━━━━━━━━\u001b[0m\u001b[37m\u001b[0m \u001b[1m190s\u001b[0m 26ms/step - accuracy: 0.9553 - loss: 0.1240 - val_accuracy: 0.9546 - val_loss: 0.1309\n",
      "Epoch 9/10\n",
      "\u001b[1m7393/7393\u001b[0m \u001b[32m━━━━━━━━━━━━━━━━━━━━\u001b[0m\u001b[37m\u001b[0m \u001b[1m70s\u001b[0m 10ms/step - accuracy: 0.9562 - loss: 0.1223 - val_accuracy: 0.9539 - val_loss: 0.1299\n",
      "Epoch 10/10\n",
      "\u001b[1m7393/7393\u001b[0m \u001b[32m━━━━━━━━━━━━━━━━━━━━\u001b[0m\u001b[37m\u001b[0m \u001b[1m99s\u001b[0m 13ms/step - accuracy: 0.9574 - loss: 0.1199 - val_accuracy: 0.9539 - val_loss: 0.1322\n"
     ]
    }
   ],
   "source": [
    "model.compile(optimizer='adam', loss='binary_crossentropy', metrics=['accuracy'])\n",
    "history = model.fit(X_train, y_train, epochs=10, batch_size=32, validation_data=(X_val, y_val))\n"
   ]
  },
  {
   "cell_type": "code",
   "execution_count": 14,
   "metadata": {},
   "outputs": [
    {
     "name": "stdout",
     "output_type": "stream",
     "text": [
      "\u001b[1m3697/3697\u001b[0m \u001b[32m━━━━━━━━━━━━━━━━━━━━\u001b[0m\u001b[37m\u001b[0m \u001b[1m9s\u001b[0m 2ms/step - accuracy: 0.9551 - loss: 0.1305\n",
      "Test Accuracy: 0.95438152551651\n"
     ]
    }
   ],
   "source": [
    "# Evaluate the model on the test set\n",
    "test_loss, test_acc = model.evaluate(X_test, y_test)\n",
    "print(f\"Test Accuracy: {test_acc}\")\n",
    "\n"
   ]
  },
  {
   "cell_type": "code",
   "execution_count": 15,
   "metadata": {},
   "outputs": [
    {
     "data": {
      "image/png": "[encoded data removed]",
      "text/plain": [
       "<Figure size 640x480 with 1 Axes>"
      ]
     },
     "metadata": {},
     "output_type": "display_data"
    },
    {
     "data": {
      "image/png": "[encoded data removed]",
      "text/plain": [
       "<Figure size 640x480 with 1 Axes>"
      ]
     },
     "metadata": {},
     "output_type": "display_data"
    }
   ],
   "source": [
    "import matplotlib.pyplot as plt\n",
    "def plot_loss_curves(history):\n",
    "  \n",
    "  loss = history.history['loss']\n",
    "  val_loss = history.history['val_loss']\n",
    "\n",
    "  accuracy = history.history['accuracy']\n",
    "  val_accuracy = history.history['val_accuracy']\n",
    "\n",
    "  epochs = range(len(history.history['loss']))\n",
    "\n",
    "  # Plot loss\n",
    "  plt.plot(epochs, loss, label='training_loss')\n",
    "  plt.plot(epochs, val_loss, label='val_loss')\n",
    "  plt.title('Loss')\n",
    "  plt.xlabel('Epochs')\n",
    "  plt.legend()\n",
    "\n",
    "  # Plot accuracy\n",
    "  plt.figure()\n",
    "  plt.plot(epochs, accuracy, label='training_accuracy')\n",
    "  plt.plot(epochs, val_accuracy, label='val_accuracy')\n",
    "  plt.title('Accuracy')\n",
    "  plt.xlabel('Epochs')\n",
    "  plt.legend()\n",
    "\n",
    "plot_loss_curves(history)"
   ]
  },
  {
   "cell_type": "code",
   "execution_count": null,
   "metadata": {},
   "outputs": [],
   "source": [
    "# import numpy as np\n",
    "# from tensorflow.image import extract_patches\n",
    "\n",
    "# def extract_image_patches(image, patch_size=(patch_size, patch_size), stride=stride):\n",
    "#     \"\"\"\n",
    "#     Extracts patches from an image.\n",
    "    \n",
    "#     Args:\n",
    "#     - image (numpy array): Input image of shape (H, W, C)\n",
    "#     - patch_size (tuple): Size of each patch (height, width)\n",
    "#     - stride (int): Step size for moving window\n",
    "    \n",
    "#     Returns:\n",
    "#     - patches (numpy array): Extracted patches (num_patches, patch_size, patch_size, C)\n",
    "#     \"\"\"\n",
    "#     H, W, C = image.shape\n",
    "#     patch_H, patch_W = patch_size\n",
    "\n",
    "#     # Compute number of patches\n",
    "#     num_patches_H = (H - patch_H) // stride + 1\n",
    "#     num_patches_W = (W - patch_W) // stride + 1\n",
    "\n",
    "#     patches = []\n",
    "\n",
    "#     for i in range(0, H - patch_H + 1, stride):\n",
    "#         for j in range(0, W - patch_W + 1, stride):\n",
    "#             patch = image[i:i + patch_H, j:j + patch_W, :]\n",
    "#             patches.append(patch)\n",
    "\n",
    "#     return np.array(patches)\n",
    "\n"
   ]
  },
  {
   "cell_type": "code",
   "execution_count": null,
   "metadata": {},
   "outputs": [],
   "source": [
    "# X_patches = extract_image_patches(input_image, patch_size=(patch_size, patch_size), stride=32)\n",
    "\n",
    "# print(\"Extracted X_patches shape:\", X_patches.shape)"
   ]
  },
  {
   "cell_type": "code",
   "execution_count": null,
   "metadata": {},
   "outputs": [],
   "source": []
  },
  {
   "cell_type": "code",
   "execution_count": null,
   "metadata": {},
   "outputs": [],
   "source": [
    "# # Predict on new data (e.g., test set or validation set)\n",
    "# predictions = model.predict(X_patches)\n",
    "# binary_predictions = (predictions > 0.5).astype(np.uint8)\n",
    "# # class_predictions = np.argmax(binary_predictions, axis=-1)  # Shape: (1409, 64, 64)\n",
    "# print(binary_predictions.shape)\n"
   ]
  },
  {
   "cell_type": "code",
   "execution_count": null,
   "metadata": {},
   "outputs": [],
   "source": [
    "# import matplotlib.pyplot as plt\n",
    "# def reconstruct_from_patches(patches, image_size, patch_size=(patch_size, patch_size), stride=32):\n",
    "#     H, W = image_size\n",
    "#     patch_H, patch_W = patch_size\n",
    "#     full_image = np.zeros((H, W, 1))  # Assuming single-channel output\n",
    "\n",
    "#     idx = 0\n",
    "#     for i in range(0, H - patch_H + 1, stride):\n",
    "#         for j in range(0, W - patch_W + 1, stride):\n",
    "#             full_image[i:i + patch_H, j:j + patch_W, :] = patches[idx]\n",
    "#             idx += 1\n",
    "\n",
    "#     return full_image\n",
    "\n",
    "# # Reconstruct full predicted mask\n",
    "# predicted_mask = reconstruct_from_patches(predictions, input_image.shape[:2])\n",
    "\n",
    "# # Visualize the final prediction\n",
    "# plt.imshow(predicted_mask.squeeze(), cmap='gray')\n",
    "# plt.title('Full Predicted Mask')\n",
    "# plt.axis('off')\n",
    "# plt.show()\n"
   ]
  },
  {
   "cell_type": "code",
   "execution_count": null,
   "metadata": {},
   "outputs": [],
   "source": [
    "# with rasterio.open(\"image_reconstruct.tiff\", 'w') as dest:\n",
    "#         # clipped_data = dataset.read(i+1, window=window)\n",
    "#         dest.write(predicted_mask, 1)\n",
    "# import tifffile as tiff\n",
    "# # Save as TIFF\n",
    "# tiff.imwrite(\"predicted_mask.tiff\", predicted_mask.astype(np.float32))"
   ]
  },
  {
   "cell_type": "code",
   "execution_count": null,
   "metadata": {},
   "outputs": [],
   "source": [
    "# Define metadata for rasterio\n",
    "# output_image_path = \"predicted_mask.tif\"\n",
    "\n",
    "# meta = {\n",
    "#     \"driver\": \"GTiff\",\n",
    "#     \"dtype\": predicted_mask.dtype,\n",
    "#     \"count\": 1,  # Single-band image\n",
    "#     \"height\": predicted_mask.shape[0],\n",
    "#     \"width\": predicted_mask.shape[1],\n",
    "#     \"crs\": \"EPSG:4326\",  # Change CRS if needed\n",
    "#     # \"transform\": from_origin(0, 0, 1, 1)  # Modify transform if georeferenced data\n",
    "# }\n",
    "\n",
    "# Save as TIFF with metadata\n",
    "# with rasterio.open(output_image_path, 'w', **meta) as dest:\n",
    "#     dest.write(predicted_mask, 1)  # Write the image as band 1\n",
    "\n",
    "# print(f\"TIFF file saved with metadata at {output_image_path}\")"
   ]
  },
  {
   "cell_type": "code",
   "execution_count": null,
   "metadata": {},
   "outputs": [],
   "source": [
    "# from tensorflow import keras\n",
    "# from tensorflow.keras import datasets, layers, models\n",
    "# from keras.models import Sequential\n",
    "# # from keras.layers.core import Flatten, Dense, Dropout\n",
    "# # from keras.layers.convolutional import Convolution2D, MaxPooling2D\n",
    "# #creating convolutional model\n",
    "\n",
    "# model = models.Sequential()\n",
    "\n",
    "# model.add(layers.Conv2D(64, (3, 3), activation='relu',\n",
    "#                         input_shape=(363, 358, 3)))\n",
    "# model.add(layers.MaxPooling2D((2, 2)))\n",
    "\n",
    "# model.add(layers.Conv2D(128, (3, 3), activation='relu'))\n",
    "# model.add(layers.MaxPooling2D((2, 2)))\n",
    "\n",
    "# model.add(layers.Conv2D(256, (3, 3), activation='relu'))\n",
    "# model.add(layers.MaxPooling2D((2, 2)))\n",
    "\n",
    "# model.add(layers.Conv2D(512, (3, 3), activation='relu'))\n",
    "# model.add(layers.MaxPooling2D((2, 2)))\n",
    "\n",
    "# model.add(layers.Conv2D(1024, (3, 3), activation='relu'))\n",
    "# model.add(layers.MaxPooling2D((2, 2)))\n",
    "\n",
    "# model.add(layers.Flatten())\n",
    "# model.add(layers.Dense(1024, activation='relu'))\n",
    "# model.add(layers.Dropout(rate=0.5))\n",
    "# model.add(layers.Dense(1024, activation='relu'))\n",
    "# model.add(layers.Dropout(rate=0.5))\n",
    "# model.add(layers.Dense(2, activation='softmax'))\n",
    "\n",
    "# model.summary()"
   ]
  },
  {
   "cell_type": "code",
   "execution_count": 16,
   "metadata": {},
   "outputs": [
    {
     "name": "stderr",
     "output_type": "stream",
     "text": [
      "WARNING:absl:You are saving your model as an HDF5 file via `model.save()` or `keras.saving.save_model(model)`. This file format is considered legacy. We recommend using instead the native Keras format, e.g. `model.save('my_model.keras')` or `keras.saving.save_model(model, 'my_model.keras')`. \n"
     ]
    }
   ],
   "source": [
    "model.save(output_model_path)\n"
   ]
  }
 ],
 "metadata": {
  "kernelspec": {
   "display_name": "fire_env",
   "language": "python",
   "name": "python3"
  },
  "language_info": {
   "codemirror_mode": {
    "name": "ipython",
    "version": 3
   },
   "file_extension": ".py",
   "mimetype": "text/x-python",
   "name": "python",
   "nbconvert_exporter": "python",
   "pygments_lexer": "ipython3",
   "version": "3.11.11"
  }
 },
 "nbformat": 4,
 "nbformat_minor": 2
}
