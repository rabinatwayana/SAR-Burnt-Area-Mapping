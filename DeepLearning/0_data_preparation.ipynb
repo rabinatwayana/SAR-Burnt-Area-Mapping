{
 "cells": [
  {
   "cell_type": "markdown",
   "metadata": {},
   "source": [
    "https://github.com/satellite-image-deep-learning/techniques?tab=readme-ov-file#sar"
   ]
  },
  {
   "cell_type": "code",
   "execution_count": 2,
   "metadata": {},
   "outputs": [],
   "source": [
    "import rasterio"
   ]
  },
  {
   "cell_type": "code",
   "execution_count": 8,
   "metadata": {},
   "outputs": [],
   "source": [
    "#generate label image using dNBR dataset\n",
    "\n",
    "dnbr_image_path=\"../input/eaton_dnbr_ready.tif\"\n",
    "output_image_path=\"input/eaton_dnbr_label.tif\"\n",
    "\n",
    "with rasterio.open(dnbr_image_path) as dataset:\n",
    "    band=dataset.read(1)\n",
    "    band[band<0.1]=0\n",
    "    band[band>=0.1]=1\n",
    "\n",
    "    meta = dataset.meta.copy()\n",
    "\n",
    "    with rasterio.open(output_image_path, 'w', **meta) as dest:\n",
    "        # clipped_data = dataset.read(i+1, window=window)\n",
    "        dest.write(band, 1)\n"
   ]
  }
 ],
 "metadata": {
  "kernelspec": {
   "display_name": "fire_env",
   "language": "python",
   "name": "python3"
  },
  "language_info": {
   "codemirror_mode": {
    "name": "ipython",
    "version": 3
   },
   "file_extension": ".py",
   "mimetype": "text/x-python",
   "name": "python",
   "nbconvert_exporter": "python",
   "pygments_lexer": "ipython3",
   "version": "3.11.11"
  }
 },
 "nbformat": 4,
 "nbformat_minor": 2
}
