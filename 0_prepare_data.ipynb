{
 "cells": [
  {
   "cell_type": "code",
   "execution_count": 1,
   "metadata": {},
   "outputs": [],
   "source": [
    "import rasterio"
   ]
  },
  {
   "cell_type": "code",
   "execution_count": null,
   "metadata": {},
   "outputs": [],
   "source": [
    "input_sar_image_path  = \"../SAR_Data_processing_eaton/8_subset/eaton_S1A_IW_GRDH_1SDV_stack_32611_clip_bilinear_10m.tif\"\n",
    "glcm_raster_path=\"../SAR_Data_processing_eaton/9_glcm/eaton_S1A_IW_GRDH_1SDV_Cal_Spk_TC_stack_glcm_32611_bilinear_10.tif\"\n",
    "thermal_image_path=\"../ThermalData/05_resample/TRAD_diff_norm_bilinear_10.tif\"\n",
    "dnbr_image_path=\"../S2_Data_Processing/Indices/dNBR_eaton_bilinear_10m.tif\"\n",
    "\n",
    "images_dict={\"input_sar_image_path\":input_sar_image_path,\n",
    "             \"glcm_raster_path\":glcm_raster_path,\n",
    "             \"thermal_image_path\":thermal_image_path,\n",
    "             \"dnbr_image_path\":dnbr_image_path,\n",
    "             }\n",
    "\n",
    "# images_dict={\"input_sar_image_path\":input_sar_image_path,\n",
    "#              \"glcm_raster_path\":\"../SAR-Burnt-Area-Mapping/input/eaton_glcm_ready.tif\",\n",
    "#              \"thermal_image_path\":\"../SAR-Burnt-Area-Mapping/input/eaton_thermal_ready.tif\",\n",
    "#              \"dnbr_image_path\":\"../SAR-Burnt-Area-Mapping/input/eaton_dnbr_ready.tif\",\n",
    "#              }\n"
   ]
  },
  {
   "cell_type": "code",
   "execution_count": 6,
   "metadata": {},
   "outputs": [
    {
     "name": "stdout",
     "output_type": "stream",
     "text": [
      "input_sar_image_path\n",
      "CRS: EPSG:32611\n",
      "Width: 1737\n",
      "Height: 1259\n",
      "Extent: BoundingBox(left=390284.9643946937, bottom=3778493.0553008374, right=407654.9643946937, top=3791083.0553008374)\n",
      "Resolution: (10.0, 10.0)\n",
      "----------------------------------------\n",
      "glcm_raster_path\n",
      "CRS: EPSG:32611\n",
      "Width: 1737\n",
      "Height: 1259\n",
      "Extent: BoundingBox(left=390284.9643946937, bottom=3778493.0553008374, right=407654.9643946937, top=3791083.0553008374)\n",
      "Resolution: (10.0, 10.0)\n",
      "----------------------------------------\n",
      "thermal_image_path\n",
      "CRS: EPSG:32611\n",
      "Width: 1737\n",
      "Height: 1259\n",
      "Extent: BoundingBox(left=390284.9643946937, bottom=3778493.055300838, right=407654.9643946937, top=3791083.055300838)\n",
      "Resolution: (10.0, 10.0)\n",
      "----------------------------------------\n",
      "dnbr_image_path\n",
      "CRS: EPSG:32611\n",
      "Width: 1737\n",
      "Height: 1259\n",
      "Extent: BoundingBox(left=390284.9643946937, bottom=3778493.055300838, right=407654.9643946937, top=3791083.055300838)\n",
      "Resolution: (10.0, 10.0)\n",
      "----------------------------------------\n"
     ]
    }
   ],
   "source": [
    "for image_key in list(images_dict.keys()):\n",
    "    print(image_key)\n",
    "\n",
    "    with rasterio.open(images_dict[image_key]) as dataset:\n",
    "        # Print the properties\n",
    "        print(f\"CRS: {dataset.crs}\")\n",
    "        print(f\"Width: {dataset.width}\")\n",
    "        print(f\"Height: {dataset.height}\")\n",
    "        print(f\"Extent: {dataset.bounds}\")\n",
    "        print(f\"Resolution: { dataset.res}\")\n",
    "        print(\"----------------------------------------\")"
   ]
  },
  {
   "cell_type": "markdown",
   "metadata": {},
   "source": [
    "## Clipping data by extent"
   ]
  },
  {
   "cell_type": "code",
   "execution_count": null,
   "metadata": {},
   "outputs": [],
   "source": [
    "import rasterio\n",
    "from rasterio.windows import from_bounds\n",
    "\n",
    "# Define the extent to clip (minx, miny, maxx, maxy)\n",
    "minx, miny, maxx, maxy=390284.9643946937, 3778493.0553008374, 407654.9643946937, 3791083.0553008374\n",
    "clip_extent = (minx, miny, maxx, maxy)\n",
    "\n",
    "images_dict_1={\n",
    "             \"eaton_glcm_ready\":glcm_raster_path,\n",
    "             \"eaton_thermal_ready\":thermal_image_path,\n",
    "             \"eaton_dnbr_ready\":dnbr_image_path,\n",
    "             }\n",
    "\n",
    "for image_key in list(images_dict_1.keys()):\n",
    "    # Open the raster dataset\n",
    "    with rasterio.open(images_dict_1[image_key]) as dataset:\n",
    "        # Get the window for the specified extent\n",
    "        window = from_bounds(*clip_extent, dataset.transform)\n",
    "        # Read the data in that window\n",
    "        # clipped_data = dataset.read(1, window=window)  # Read the first band in the window\n",
    "        \n",
    "        # Get the new transform for the clipped data\n",
    "        clipped_transform = dataset.window_transform(window)\n",
    "        clipped_data = dataset.read(1, window=window)\n",
    "        # Define the metadata for the clipped raster\n",
    "        clipped_meta = dataset.meta.copy()\n",
    "        clipped_meta.update({\n",
    "            'height': clipped_data.shape[0],\n",
    "            'width': clipped_data.shape[1],\n",
    "            'transform': clipped_transform\n",
    "        })\n",
    "        count=dataset.count\n",
    "\n",
    "        # bands = dataset.read()\n",
    "        \n",
    "        # Write the clipped data to a new file\n",
    "        with rasterio.open(f'input/{image_key}.tif', 'w', **clipped_meta) as dest:\n",
    "            for i in range(count):\n",
    "                clipped_data = dataset.read(i+1, window=window)\n",
    "                dest.write(clipped_data, i+1)  # Write the first band\n"
   ]
  }
 ],
 "metadata": {
  "kernelspec": {
   "display_name": "fire_env",
   "language": "python",
   "name": "python3"
  },
  "language_info": {
   "codemirror_mode": {
    "name": "ipython",
    "version": 3
   },
   "file_extension": ".py",
   "mimetype": "text/x-python",
   "name": "python",
   "nbconvert_exporter": "python",
   "pygments_lexer": "ipython3",
   "version": "3.11.11"
  }
 },
 "nbformat": 4,
 "nbformat_minor": 2
}
