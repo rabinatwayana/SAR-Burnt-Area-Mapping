{
 "cells": [
  {
   "cell_type": "code",
   "execution_count": 3,
   "metadata": {},
   "outputs": [],
   "source": [
    "import rasterio\n",
    "from rasterio.windows import from_bounds"
   ]
  },
  {
   "cell_type": "code",
   "execution_count": 4,
   "metadata": {},
   "outputs": [],
   "source": [
    "## Eaton\n",
    "# # input_sar_image_path  = \"../SAR_Data_processing_eaton/8_subset/eaton_S1A_IW_GRDH_1SDV_stack_32611_clip_bilinear_10m.tif\"\n",
    "# input_sar_image_path  = \"input/eaton_s1_ready.tif\"\n",
    "# glcm_raster_path=\"../SAR_Data_processing_eaton/9_glcm/eaton_S1A_IW_GRDH_1SDV_Cal_Spk_TC_stack_glcm_32611_bilinear_10.tif\"\n",
    "# thermal_image_path=\"../ThermalData/03_diff/dTRAD.tif\"\n",
    "# dnbr_image_path=\"../S2_Data_Processing/Indices/04_CLIP/dNBR_bilinear_10_clip.tif\"\n",
    "# prefix=\"eaton\"\n",
    "# Define , eaton\n",
    "# minx, miny, maxx, maxy=390284.9643946937, 3778493.0553008374, 407654.9643946937, 3791083.0553008374\n",
    "\n",
    "\n",
    "## Palisades\n",
    "input_sar_image_path  = \"../../SAR_Data_processing/8_1_project/S1A_IW_GRDH_1SDV_palisades_32611_bilinear_10.tif\"\n",
    "glcm_raster_path=\"\"\n",
    "thermal_image_path=\"../../ThermalData/03_diff/dTRAD.tif\"\n",
    "dnbr_image_path=\"../../S2_Data_Processing/Indices/04_CLIP/dNBR_bilinear_10_clip.tif\"\n",
    "prefix=\"palisades\"\n",
    "\n",
    "## palisades\n",
    "minx, miny, maxx, maxy=330142.6891275004,3757093.028339643,375622.6891275004,3794643.028339643\n"
   ]
  },
  {
   "cell_type": "code",
   "execution_count": 5,
   "metadata": {},
   "outputs": [],
   "source": [
    "\n",
    "images_dict={f\"{prefix}_s1_ready\":input_sar_image_path,\n",
    "            #  \"glcm_raster_path\":glcm_raster_path,\n",
    "             f\"{prefix}_thermal_ready\":thermal_image_path,\n",
    "            f\"{prefix}_dnbr_ready\":dnbr_image_path,\n",
    "             }\n",
    "\n",
    "# images_dict={\"input_sar_image_path\":input_sar_image_path,\n",
    "#              \"glcm_raster_path\":\"../SAR-Burnt-Area-Mapping/input/eaton_glcm_ready.tif\",\n",
    "#              \"thermal_image_path\":\"../SAR-Burnt-Area-Mapping/input/eaton_thermal_ready.tif\",\n",
    "#              \"dnbr_image_path\":\"../SAR-Burnt-Area-Mapping/input/eaton_dnbr_ready.tif\",\n",
    "#              }\n"
   ]
  },
  {
   "cell_type": "markdown",
   "metadata": {},
   "source": [
    "### save in order: VH_PRE, VV_PRE, VH_POST, VV_POST"
   ]
  },
  {
   "cell_type": "code",
   "execution_count": null,
   "metadata": {},
   "outputs": [],
   "source": [
    "\n",
    "# # save in order: VH_PRE, VV_PRE, VH_POST, VV_POST\n",
    "# output_ordered_image_path=\"input/eaton_s1_ready.tif\"\n",
    "# with rasterio.open(input_sar_image_path) as dataset:\n",
    "#     vh_post_band=dataset.read(1)\n",
    "#     vv_post_band=dataset.read(2)\n",
    "#     vh_pre_band=dataset.read(3)\n",
    "#     vv_pre_band=dataset.read(4)\n",
    "#     meta=dataset.meta.copy()\n",
    "\n",
    "# # Write the clipped data to a new file\n",
    "# with rasterio.open(output_ordered_image_path, 'w', **meta) as dest:\n",
    "#     dest.write(vh_pre_band, 1)  \n",
    "#     dest.write(vv_pre_band, 2)  \n",
    "#     dest.write(vh_post_band, 3)  \n",
    "#     dest.write(vv_post_band, 4)  \n"
   ]
  },
  {
   "cell_type": "code",
   "execution_count": 6,
   "metadata": {},
   "outputs": [
    {
     "name": "stdout",
     "output_type": "stream",
     "text": [
      "palisades_s1_ready\n",
      "CRS: EPSG:32611\n",
      "Width: 4548\n",
      "Height: 3755\n",
      "Extent: BoundingBox(left=330142.6891275004, bottom=3757093.028339643, right=375622.6891275004, top=3794643.028339643)\n",
      "Resolution: (10.0, 10.0)\n",
      "----------------------------------------\n",
      "palisades_thermal_ready\n",
      "CRS: EPSG:32611\n",
      "Width: 8833\n",
      "Height: 5044\n",
      "Extent: BoundingBox(left=326605.0, bottom=3755115.0, right=414935.0, top=3805555.0)\n",
      "Resolution: (10.0, 10.0)\n",
      "----------------------------------------\n",
      "palisades_dnbr_ready\n",
      "CRS: EPSG:32611\n",
      "Width: 7917\n",
      "Height: 4406\n",
      "Extent: BoundingBox(left=329840.0, bottom=3753440.0, right=409010.0, top=3797500.0)\n",
      "Resolution: (10.0, 10.0)\n",
      "----------------------------------------\n"
     ]
    }
   ],
   "source": [
    "for image_key in list(images_dict.keys()):\n",
    "    print(image_key)\n",
    "\n",
    "    with rasterio.open(images_dict[image_key]) as dataset:\n",
    "        # Print the properties\n",
    "        print(f\"CRS: {dataset.crs}\")\n",
    "        print(f\"Width: {dataset.width}\")\n",
    "        print(f\"Height: {dataset.height}\")\n",
    "        print(f\"Extent: {dataset.bounds}\")\n",
    "        print(f\"Resolution: { dataset.res}\")\n",
    "        print(\"----------------------------------------\")"
   ]
  },
  {
   "cell_type": "markdown",
   "metadata": {},
   "source": [
    "## Clipping data by extent"
   ]
  },
  {
   "cell_type": "code",
   "execution_count": 5,
   "metadata": {},
   "outputs": [],
   "source": [
    "# # Define , eaton\n",
    "# # minx, miny, maxx, maxy=390284.9643946937, 3778493.0553008374, 407654.9643946937, 3791083.0553008374\n",
    "\n",
    "# ## palisades\n",
    "# minx, miny, maxx, maxy=330142.6891275004,3757093.028339643,375622.6891275004,3794643.028339643\n",
    "\n",
    "clip_extent = (minx, miny, maxx, maxy)"
   ]
  },
  {
   "cell_type": "code",
   "execution_count": null,
   "metadata": {},
   "outputs": [],
   "source": [
    "# first_key = next(iter(images_dict))\n",
    "\n",
    "# # Remove it\n",
    "# images_dict.pop(first_key)\n",
    "# print(images_dict)"
   ]
  },
  {
   "cell_type": "code",
   "execution_count": 6,
   "metadata": {},
   "outputs": [],
   "source": [
    "# images_dict_1={\n",
    "#              \"eaton_glcm_ready\":glcm_raster_path,\n",
    "#              \"eaton_thermal_ready\":thermal_image_path,\n",
    "#              \"eaton_dnbr_ready\":dnbr_image_path,\n",
    "#              }\n",
    "\n",
    "for image_key in list(images_dict.keys()):\n",
    "    # Open the raster dataset\n",
    "    with rasterio.open(images_dict[image_key]) as dataset:\n",
    "        # Get the window for the specified extent\n",
    "        window = from_bounds(*clip_extent, dataset.transform)\n",
    "        # Read the data in that window\n",
    "        # clipped_data = dataset.read(1, window=window)  # Read the first band in the window\n",
    "        \n",
    "        # Get the new transform for the clipped data\n",
    "        clipped_transform = dataset.window_transform(window)\n",
    "        clipped_data = dataset.read(1, window=window)\n",
    "        # Define the metadata for the clipped raster\n",
    "        clipped_meta = dataset.meta.copy()\n",
    "        clipped_meta.update({\n",
    "            'height': clipped_data.shape[0],\n",
    "            'width': clipped_data.shape[1],\n",
    "            'transform': clipped_transform\n",
    "        })\n",
    "        count=dataset.count\n",
    "\n",
    "        # bands = dataset.read()\n",
    "        \n",
    "        # Write the clipped data to a new file\n",
    "        with rasterio.open(f'input/{image_key}.tif', 'w', **clipped_meta) as dest:\n",
    "            for i in range(count):\n",
    "                clipped_data = dataset.read(i+1, window=window)\n",
    "                dest.write(clipped_data, i+1)  # Write the first band\n"
   ]
  }
 ],
 "metadata": {
  "kernelspec": {
   "display_name": "fire_env",
   "language": "python",
   "name": "python3"
  },
  "language_info": {
   "codemirror_mode": {
    "name": "ipython",
    "version": 3
   },
   "file_extension": ".py",
   "mimetype": "text/x-python",
   "name": "python",
   "nbconvert_exporter": "python",
   "pygments_lexer": "ipython3",
   "version": "3.11.11"
  }
 },
 "nbformat": 4,
 "nbformat_minor": 2
}
