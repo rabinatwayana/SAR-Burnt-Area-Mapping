{
 "cells": [
  {
   "cell_type": "code",
   "execution_count": null,
   "metadata": {},
   "outputs": [],
   "source": [
    "# import os\n",
    "# # !pwd\n",
    "\n",
    "# from pathlib import Path\n",
    "\n",
    "# dir_path = Path(r\"/Users/rabinatwayana/Rabina/CDE II/Wildfire Project/SAR-Burnt-Area-Mapping/\")\n",
    "\n",
    "# if dir_path.exists():\n",
    "#     os.chdir(dir_path)\n",
    "# else:\n",
    "#     print(\"Directory does not exist! Please check the path.\")"
   ]
  },
  {
   "cell_type": "code",
   "execution_count": 2,
   "metadata": {},
   "outputs": [],
   "source": [
    "import pandas as pd\n",
    "from utils import evaluate_model\n",
    "import joblib"
   ]
  },
  {
   "cell_type": "code",
   "execution_count": null,
   "metadata": {},
   "outputs": [],
   "source": [
    "sample_feature_path=\"MachineLearning/output/sample_feature/palisades_sar_optical_indices.csv\"\n",
    "model_path=\"MachineLearning/output/model/RandomForest0_eaton_sar_optical.pkl\"\n",
    "feature_column_names=[\"dTRAD\",\"dNBR\",\"RBD_VV\", \"RBD_VH\", \"RBR_VV\", \"RBR_VH\",\"ΔRVI\",'Δvv_vh_ratio',\"ΔRDFI\",\"RCBI\"]\n",
    "\n",
    "# sample_feature_path=\"MachineLearning/output/sample_feature/palisades_sar_indices.csv\"\n",
    "# model_path=\"MachineLearning/output/model/RandomForest0_eaton_sar.pkl\"\n",
    "# feature_column_names=[\"RBD_VV\", \"RBD_VH\", \"RBR_VV\", \"RBR_VH\",\"ΔRVI\",'Δvv_vh_ratio',\"ΔRDFI\",\"RCBI\"]\n",
    "\n",
    "training_data=pd.read_csv(sample_feature_path)\n",
    "class_column_name='class'\n"
   ]
  },
  {
   "cell_type": "code",
   "execution_count": 4,
   "metadata": {},
   "outputs": [],
   "source": [
    "X = training_data[feature_column_names]  # Features (SAR band values)\n",
    "y = training_data[class_column_name] "
   ]
  },
  {
   "cell_type": "code",
   "execution_count": 5,
   "metadata": {},
   "outputs": [
    {
     "name": "stdout",
     "output_type": "stream",
     "text": [
      "Model performance for Training set\n",
      "- Accuracy: 0.9982\n",
      "- F1 Score: 0.9982017546102991\n",
      "- Precision Score: 0.9982042699081948\n",
      "- Recall Score: 0.9982\n",
      "- Roc Auc Score: 0.9947246652244238\n"
     ]
    }
   ],
   "source": [
    "\n",
    "model = joblib.load(model_path)\n",
    "#Make a prediction\n",
    "y_pred=model.predict(X)\n",
    "# y_test_pred=model.predict(scaler.transform(X_test))\n",
    "# y_test_pred=model.predict(X_test)\n",
    "\n",
    "eval_metrics=evaluate_model(y,y_pred)\n",
    "#Training set performance\n",
    "# model_train_accuracy=accuracy_score(y_train,y_train_pred)\n",
    "# model_train_f1=f1_score(y_train,y_train_pred,average='weighted')\n",
    "# model_train_precision=precision_score(y_train,y_train_pred)\n",
    "# model_train_recall=recall_score(y_train,y_train_pred)\n",
    "# model_train_roc_auc_score=roc_auc_score(y_train,y_train_pred)"
   ]
  }
 ],
 "metadata": {
  "kernelspec": {
   "display_name": "fire_env",
   "language": "python",
   "name": "python3"
  },
  "language_info": {
   "codemirror_mode": {
    "name": "ipython",
    "version": 3
   },
   "file_extension": ".py",
   "mimetype": "text/x-python",
   "name": "python",
   "nbconvert_exporter": "python",
   "pygments_lexer": "ipython3",
   "version": "3.11.11"
  }
 },
 "nbformat": 4,
 "nbformat_minor": 2
}
