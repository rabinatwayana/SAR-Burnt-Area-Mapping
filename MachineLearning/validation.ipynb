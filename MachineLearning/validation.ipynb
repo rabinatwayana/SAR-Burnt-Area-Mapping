{
 "cells": [
  {
   "cell_type": "code",
   "execution_count": 1,
   "metadata": {},
   "outputs": [],
   "source": [
    "import geopandas as gpd\n",
    "import rasterio\n",
    "from rasterio import features\n",
    "from rasterio.plot import show\n",
    "from sklearn.metrics import confusion_matrix, classification_report, accuracy_score\n",
    "import numpy as np\n",
    "import pandas as pd"
   ]
  },
  {
   "cell_type": "code",
   "execution_count": 2,
   "metadata": {},
   "outputs": [],
   "source": [
    "validation_sample_path=\"sample/eaton_random_sample.shp\"\n",
    "\n",
    "# prediction_image_path=\"output/prediction/palisades_RF_eaton_sar.tif\"\n",
    "# prediction_image_path=\"output/prediction/palisades_RF_eaton_sar_glcm.tif\"\n",
    "# prediction_image_path=\"output/prediction/palisades_RF_eaton_sar_glcm_dtrad.tif\"\n",
    "prediction_image_path=\"output/prediction/palisades_RF_eaton_sar_glcm_dtrad_dnbr.tif\"\n",
    "\n"
   ]
  },
  {
   "cell_type": "code",
   "execution_count": 3,
   "metadata": {},
   "outputs": [
    {
     "name": "stdout",
     "output_type": "stream",
     "text": [
      "Confusion Matrix:\n",
      "[[5365   43]\n",
      " [ 240 2072]]\n",
      "\n",
      "Classification Report:\n",
      "              precision    recall  f1-score   support\n",
      "\n",
      "     Class 0       0.96      0.99      0.97      5408\n",
      "     Class 1       0.98      0.90      0.94      2312\n",
      "\n",
      "    accuracy                           0.96      7720\n",
      "   macro avg       0.97      0.94      0.96      7720\n",
      "weighted avg       0.96      0.96      0.96      7720\n",
      "\n",
      "\n",
      "Overall Accuracy:\n",
      "0.9633419689119171\n"
     ]
    }
   ],
   "source": [
    "\n",
    "\n",
    "# Load sample points (make sure it has a 'class' column)\n",
    "gdf = gpd.read_file(validation_sample_path)\n",
    "\n",
    "# Open prediction raster\n",
    "with rasterio.open(prediction_image_path) as src:\n",
    "    # Read the first band\n",
    "    prediction = src.read(1)\n",
    "    \n",
    "    # Get predicted value at each sample point location\n",
    "    coords = [(x,y) for x, y in zip(gdf.geometry.x, gdf.geometry.y)]\n",
    "    gdf['predicted'] = [val[0] for val in src.sample(coords)]\n",
    "\n",
    "# Ground truth and predicted labels\n",
    "y_true = gdf['class']\n",
    "y_pred = gdf['predicted']\n",
    "\n",
    "# Metrics\n",
    "print(\"Confusion Matrix:\")\n",
    "print(confusion_matrix(y_true, y_pred))\n",
    "\n",
    "print(\"\\nClassification Report:\")\n",
    "print(classification_report(y_true, y_pred, target_names=['Class 0', 'Class 1']))\n",
    "\n",
    "print(\"\\nOverall Accuracy:\")\n",
    "print(accuracy_score(y_true, y_pred))\n"
   ]
  },
  {
   "cell_type": "code",
   "execution_count": null,
   "metadata": {},
   "outputs": [],
   "source": [
    "\n"
   ]
  }
 ],
 "metadata": {
  "kernelspec": {
   "display_name": "fire_env",
   "language": "python",
   "name": "python3"
  },
  "language_info": {
   "codemirror_mode": {
    "name": "ipython",
    "version": 3
   },
   "file_extension": ".py",
   "mimetype": "text/x-python",
   "name": "python",
   "nbconvert_exporter": "python",
   "pygments_lexer": "ipython3",
   "version": "3.11.11"
  }
 },
 "nbformat": 4,
 "nbformat_minor": 2
}
