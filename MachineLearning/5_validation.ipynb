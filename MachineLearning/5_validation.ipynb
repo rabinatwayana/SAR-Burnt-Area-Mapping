{
 "cells": [
  {
   "cell_type": "code",
   "execution_count": 1,
   "metadata": {},
   "outputs": [],
   "source": [
    "import os\n",
    "# !pwd\n",
    "\n",
    "from pathlib import Path\n",
    "\n",
    "dir_path = Path(r\"/Users/rabinatwayana/Rabina/CDE II/Wildfire Project/SAR-Burnt-Area-Mapping/\")\n",
    "\n",
    "if dir_path.exists():\n",
    "    os.chdir(dir_path)\n",
    "else:\n",
    "    print(\"Directory does not exist! Please check the path.\")"
   ]
  },
  {
   "cell_type": "code",
   "execution_count": 2,
   "metadata": {},
   "outputs": [
    {
     "name": "stdout",
     "output_type": "stream",
     "text": [
      "/Users/rabinatwayana/Rabina/CDE II/Wildfire Project/SAR-Burnt-Area-Mapping\n"
     ]
    }
   ],
   "source": [
    "!pwd"
   ]
  },
  {
   "cell_type": "code",
   "execution_count": 3,
   "metadata": {},
   "outputs": [],
   "source": [
    "import matplotlib.pyplot as plt\n",
    "from utils import evaluate_model, run_model, create_fish_net, prepare_training_sample,get_best_hyperparameter\n"
   ]
  },
  {
   "cell_type": "code",
   "execution_count": 4,
   "metadata": {},
   "outputs": [],
   "source": [
    "gt_image_path=\"MachineLearning/input/ground_truth/02_gt/gt_palisade.tif\"\n",
    "pred_image_path=\"MachineLearning/output/prediction/palisadesRF_sar_avg_asc_desc_glcm.tif\""
   ]
  },
  {
   "cell_type": "code",
   "execution_count": 5,
   "metadata": {},
   "outputs": [],
   "source": [
    "import rasterio\n",
    "import numpy as np\n",
    "\n",
    "# Load ground truth\n",
    "with rasterio.open(gt_image_path) as src:\n",
    "    y_true = src.read(1)  # assuming single band\n",
    "\n",
    "# Load prediction\n",
    "with rasterio.open(pred_image_path) as src:\n",
    "    y_pred = src.read(1)\n",
    "\n",
    "# Flatten arrays\n",
    "y_true = y_true.flatten()\n",
    "y_pred = y_pred.flatten()\n",
    "\n",
    "# Mask out NoData (assuming 255 or any NoData value you use)\n",
    "# mask = (y_true_flat != 255)  # or use src.nodata if set\n",
    "# y_true_clean = y_true_flat[mask]\n",
    "# y_pred_clean = y_pred_flat[mask]\n",
    "\n"
   ]
  },
  {
   "cell_type": "code",
   "execution_count": 6,
   "metadata": {},
   "outputs": [
    {
     "name": "stdout",
     "output_type": "stream",
     "text": [
      "Model performance\n",
      "- Log loss: 3.4059788007682155\n",
      "- Accuracy: 0.9055040629761301\n",
      "- F1 Score: 0.9063327334272164\n",
      "- Precision Score: 0.9073311989905459\n",
      "- Recall Score: 0.9055040629761301\n",
      "- Roc Auc Score: 0.8464058818681608\n",
      "- confusion_matrix: [[3479415  231135]\n",
      " [ 194576  599946]]\n"
     ]
    },
    {
     "data": {
      "text/plain": [
       "{'log_loss': 3.4059788007682155,\n",
       " 'accuracy': 0.9055040629761301,\n",
       " 'f1_score': 0.9063327334272164,\n",
       " 'precision': 0.9073311989905459,\n",
       " 'recall': 0.9055040629761301,\n",
       " 'roc_auc': np.float64(0.8464058818681608),\n",
       " 'confusion_matrix': array([[3479415,  231135],\n",
       "        [ 194576,  599946]])}"
      ]
     },
     "execution_count": 6,
     "metadata": {},
     "output_type": "execute_result"
    }
   ],
   "source": [
    "evaluate_model(y_true, y_pred)"
   ]
  },
  {
   "cell_type": "code",
   "execution_count": 7,
   "metadata": {},
   "outputs": [],
   "source": [
    "# from sklearn.metrics import confusion_matrix, ConfusionMatrixDisplay, classification_report\n",
    "\n",
    "# # Compute confusion matrix\n",
    "# cm = confusion_matrix(y_true_clean, y_pred_clean)\n",
    "\n",
    "# # Display matrix\n",
    "# disp = ConfusionMatrixDisplay(confusion_matrix=cm)\n",
    "# disp.plot(cmap='cividis')\n",
    "# plt.title(\"Confusion Matrix (TIF-based Classification)\")\n",
    "# plt.show()\n",
    "\n",
    "# # Print metrics\n",
    "# print(\"Classification Report:\\n\", classification_report(y_true_clean, y_pred_clean))\n"
   ]
  },
  {
   "cell_type": "code",
   "execution_count": 8,
   "metadata": {},
   "outputs": [],
   "source": [
    "\n",
    "\n",
    "# diff_map = y_pred - y_true\n",
    "\n",
    "# plt.figure(figsize=(10, 6))\n",
    "# plt.imshow(diff_map, cmap='RdBu', vmin=-2, vmax=2)\n",
    "# plt.colorbar(label='Prediction - Ground Truth')\n",
    "# plt.title('Difference Map')\n",
    "# plt.show()\n"
   ]
  }
 ],
 "metadata": {
  "kernelspec": {
   "display_name": "fire_env",
   "language": "python",
   "name": "python3"
  },
  "language_info": {
   "codemirror_mode": {
    "name": "ipython",
    "version": 3
   },
   "file_extension": ".py",
   "mimetype": "text/x-python",
   "name": "python",
   "nbconvert_exporter": "python",
   "pygments_lexer": "ipython3",
   "version": "3.11.11"
  }
 },
 "nbformat": 4,
 "nbformat_minor": 2
}
