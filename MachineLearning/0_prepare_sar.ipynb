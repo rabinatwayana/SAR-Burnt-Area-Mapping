{
 "cells": [
  {
   "cell_type": "code",
   "execution_count": 1,
   "metadata": {},
   "outputs": [],
   "source": [
    "import rasterio\n",
    "from rasterio.windows import from_bounds\n",
    "import geopandas as gpd\n",
    "from shapely.geometry import box"
   ]
  },
  {
   "cell_type": "code",
   "execution_count": 2,
   "metadata": {},
   "outputs": [],
   "source": [
    "\n",
    "output_sar_image_path=\"intermediate/sar_asc_avg.tif\"\n",
    "\n",
    "input_sar_image_path  = \"../../Asc_SAR_Data_Processing/10_projection/subset_Asc_spksigma_TC_32611.tif\""
   ]
  },
  {
   "cell_type": "code",
   "execution_count": null,
   "metadata": {},
   "outputs": [],
   "source": [
    "with rasterio.open(input_sar_image_path) as dataset:\n",
    "    pre_vh_bands = dataset.read()  # Read all bands\n",
    "    vh_pre_1 = dataset.read(1)\n",
    "    vv_pre_1 = dataset.read(2)\n",
    "    vh_pre_2 = dataset.read(3)\n",
    "    vv_pre_2 = dataset.read(4)\n",
    "    vh_post_1= dataset.read(5)\n",
    "    vv_post_1= dataset.read(6)\n",
    "    vh_post_2= dataset.read(7)\n",
    "    vv_post_2= dataset.read(8)\n",
    "    \n",
    "    meta=dataset.meta.copy()\n",
    "    meta.update({\"count\":4})\n",
    "\n",
    "with rasterio.open(output_sar_image_path, 'w', **meta) as dest:\n",
    "    vh_pre = (vh_pre_1+vh_pre_2 )/2\n",
    "    vv_pre = (vv_pre_1+vv_pre_2)/2\n",
    "    vh_post= (vh_post_1+vh_post_2)/2\n",
    "    vv_post= (vv_post_1+vv_post_2)/2\n",
    "    dest.write(vh_pre, 1)\n",
    "    dest.write(vv_pre, 2)\n",
    "    dest.write(vh_post, 3)\n",
    "    dest.write(vv_post, 4)\n",
    "\n",
    "    # dest.write(vh_pre_2, 1)\n",
    "    # dest.write(vv_pre_2, 2)\n",
    "    # dest.write(vh_post_1, 3)\n",
    "    # dest.write(vv_post_1, 4)\n",
    "\n"
   ]
  },
  {
   "cell_type": "code",
   "execution_count": null,
   "metadata": {},
   "outputs": [],
   "source": []
  }
 ],
 "metadata": {
  "kernelspec": {
   "display_name": "fire_env",
   "language": "python",
   "name": "python3"
  },
  "language_info": {
   "codemirror_mode": {
    "name": "ipython",
    "version": 3
   },
   "file_extension": ".py",
   "mimetype": "text/x-python",
   "name": "python",
   "nbconvert_exporter": "python",
   "pygments_lexer": "ipython3",
   "version": "3.11.11"
  }
 },
 "nbformat": 4,
 "nbformat_minor": 2
}
