{
 "cells": [
  {
   "cell_type": "code",
   "execution_count": 1,
   "metadata": {},
   "outputs": [
    {
     "name": "stdout",
     "output_type": "stream",
     "text": [
      "/Users/rabinatwayana/Rabina/CDE II/Wildfire Project/SAR-Burnt-Area-Mapping\n"
     ]
    }
   ],
   "source": [
    "import os\n",
    "from pathlib import Path\n",
    "dir_path = Path(r\"/Users/rabinatwayana/Rabina/CDE II/Wildfire Project/SAR-Burnt-Area-Mapping/\")\n",
    "if dir_path.exists():\n",
    "    os.chdir(dir_path)\n",
    "else:\n",
    "    print(\"Directory does not exist! Please check the path.\")\n",
    "!pwd"
   ]
  },
  {
   "cell_type": "code",
   "execution_count": 2,
   "metadata": {},
   "outputs": [],
   "source": [
    "import geopandas as gpd\n",
    "import rasterio\n",
    "import pandas as pd\n",
    "import numpy as np\n",
    "import rasterio\n",
    "from skimage.feature import graycomatrix, graycoprops\n",
    "from sklearn.cluster import KMeans\n",
    "import warnings\n",
    "warnings.filterwarnings(\"ignore\") \n",
    "warnings.filterwarnings(\"ignore\", category=UserWarning)\n",
    "from utils import extract_feature"
   ]
  },
  {
   "cell_type": "markdown",
   "metadata": {},
   "source": [
    "### Load sample points and sar data\n"
   ]
  },
  {
   "cell_type": "code",
   "execution_count": 3,
   "metadata": {},
   "outputs": [],
   "source": [
    "#  palisades\n",
    "# shp_path='sample/palisades_random_sample.shp'\n",
    "# is_polygon=False\n",
    "\n",
    "input_asc_sar_image_path  = \"MachineLearning/input/sar/02_clip/S1A_asc_32611_avg_clip.tif\"\n",
    "input_desc_sar_image_path  = \"MachineLearning/input/sar/02_clip/S1A_desc_32611_avg_clip.tif\"\n",
    "input_asc_desc_sar_image_path  = \"MachineLearning/input/sar/02_clip/S1A_asc_desc_avg_clip.tif\"\n",
    "glcm_raster_path = \"MachineLearning/input/glcm/04_pca/palisade_asc_desc_dGLCM_pca.tif\"\n",
    "\n",
    "# input_desc_sar_image_path  = \"input/palisades_s1_desc_ready.tif\"\n",
    "# thermal_image_path=\"input/palisades_thermal_ready.tif\"\n",
    "# dnbr_image_path=\"input/palisades_dnbr_ready.tif\"\n",
    "# extract_sample_feature=True\n",
    "prefix=\"palisades\"\n",
    "\n",
    "# extract_sample_feature=False\n",
    "# prefix=\"eaton\"\n",
    "\n",
    "scheme_1 =False #asc only\n",
    "scheme_2 =False #desc only\n",
    "scheme_3 =False # asc+ desc\n",
    "scheme_4 = True # asc+desc+glcm\n",
    "# scheme_5 =True  \n",
    "# scheme_6 =True\n",
    "# scheme_7 =True\n",
    "\n",
    "## eaton\n",
    "# shp_path='sample/eaton_random_sample.shp'\n",
    "# is_polygon=False\n",
    "\n",
    "# input_asc_sar_image_path  = \"input/eaton_s1_ready.tif\"\n",
    "# input_avg_asc_sar_image_path  = \"input/eaton_s1_avg_ready.tif\"\n",
    "# input_desc_sar_image_path  = \"input/eaton_s1_desc_ready.tif\"\n",
    "# glcm_raster_path=\"input/eaton_glcm_pca_ready.tif\"\n",
    "# thermal_image_path=\"input/eaton_thermal_ready.tif\"\n",
    "# dnbr_image_path=\"input/eaton_dnbr_ready.tif\"\n",
    "# extract_sample_feature=True\n",
    "# prefix=\"eaton\"\n",
    "\n",
    "# # extract_sample_feature=False\n",
    "# # prefix=\"eaton\"\n",
    "\n",
    "# scheme_1 =True\n",
    "# scheme_2 =True\n",
    "# scheme_3 =True\n",
    "# scheme_4 =True\n",
    "# scheme_5 =True\n",
    "# scheme_6 =True\n",
    "# scheme_7 =True\n"
   ]
  },
  {
   "cell_type": "code",
   "execution_count": 5,
   "metadata": {},
   "outputs": [
    {
     "name": "stdout",
     "output_type": "stream",
     "text": [
      "feature image saved at: MachineLearning/output/feature_image/palisades_sar_avg_asc_desc_glcm.tif\n"
     ]
    }
   ],
   "source": [
    "\n",
    "if scheme_1:\n",
    "    #1 Asc\n",
    "    extract_feature(\n",
    "        add_bands=False, \n",
    "        # input_desc_sar_image_path=\"\", \n",
    "        input_image_path=input_asc_sar_image_path,\n",
    "        glcm_raster_path=\"\",  \n",
    "        thermal_image_path=\"\", \n",
    "        dnbr_image_path=\"\", \n",
    "        final_columns_names=[\"RBD_VV\", \"RBD_VH\", \"RBR_VV\", \"RBR_VH\",\"ΔRVI\"], \n",
    "        # shp_path=shp_path, \n",
    "        # is_polygon=is_polygon, \n",
    "        # extract_sample_feature=extract_sample_feature,\n",
    "        output_image_path=f\"MachineLearning/output/feature_image/{prefix}_sar_avg_asc.tif\", \n",
    "        # output_file_path=f\"output/sample_feature/{prefix}_sar_asc.csv\"\n",
    "        )\n",
    "\n",
    "if scheme_2:\n",
    "    #1 Asc glcm\n",
    "    extract_feature(\n",
    "        add_bands=False, \n",
    "        # input_desc_sar_image_path=\"\", \n",
    "        input_image_path=input_desc_sar_image_path,\n",
    "        glcm_raster_path=\"\",  \n",
    "        thermal_image_path=\"\", \n",
    "        dnbr_image_path=\"\", \n",
    "        final_columns_names=[\"RBD_VV\", \"RBD_VH\", \"RBR_VV\", \"RBR_VH\",\"ΔRVI\"], \n",
    "        # shp_path=shp_path, \n",
    "        # is_polygon=is_polygon, \n",
    "        # extract_sample_feature=extract_sample_feature,\n",
    "        output_image_path=f\"MachineLearning/output/feature_image/{prefix}_sar_avg_desc.tif\", \n",
    "        # output_file_path=f\"output/sample_feature/{prefix}_sar_asc_glcm.csv\"\n",
    "        )\n",
    "    \n",
    "\n",
    "if scheme_3:\n",
    "    #1 Asc avg\n",
    "    extract_feature(\n",
    "        add_bands=False, \n",
    "        input_desc_sar_image_path=input_desc_sar_image_path, \n",
    "        input_image_path=input_asc_sar_image_path,\n",
    "        glcm_raster_path=\"\",  \n",
    "        thermal_image_path=\"\", \n",
    "        dnbr_image_path=\"\", \n",
    "        final_columns_names=[\"RBD_VV\", \"RBD_VH\", \"RBR_VV\", \"RBR_VH\",\"ΔRVI\"], \n",
    "        # shp_path=shp_path, \n",
    "        # is_polygon=is_polygon, \n",
    "        # extract_sample_feature=extract_sample_feature,\n",
    "        output_image_path=f\"MachineLearning/output/feature_image/{prefix}_sar_avg_asc_desc.tif\", \n",
    "        # output_file_path=f\"output/sample_feature/{prefix}_sar_avgasc.csv\"\n",
    "        )\n",
    "    \n",
    "if scheme_4:\n",
    "    #1 Asc avg + glcm\n",
    "    extract_feature(\n",
    "        add_bands=False, \n",
    "        input_desc_sar_image_path=input_desc_sar_image_path, \n",
    "        input_image_path=input_asc_sar_image_path,\n",
    "        glcm_raster_path=glcm_raster_path,  \n",
    "        thermal_image_path=\"\", \n",
    "        dnbr_image_path=\"\", \n",
    "        final_columns_names=[\"RBD_VV\", \"RBD_VH\", \"RBR_VV\", \"RBR_VH\",\"ΔRVI\",'p1','p2','p3'], \n",
    "        # shp_path=shp_path, \n",
    "        # is_polygon=is_polygon, \n",
    "        # extract_sample_feature=extract_sample_feature,\n",
    "        output_image_path=f\"MachineLearning/output/feature_image/{prefix}_sar_avg_asc_desc_glcm.tif\", \n",
    "        # output_file_path=f\"output/sample_feature/{prefix}_sar_avgasc_glcm.csv\"\n",
    "        )\n",
    "\n",
    "# if scheme_5:\n",
    "#     #avg asc + desc\n",
    "#     extract_feature(\n",
    "#         add_bands=False, \n",
    "#         # # input_desc_sar_image_path=input_desc_sar_image_path, \n",
    "#         input_image_path=input_avg_asc_sar_image_path,\n",
    "#         glcm_raster_path=\"\",  \n",
    "#         thermal_image_path=\"\", \n",
    "#         dnbr_image_path=\"\", \n",
    "#         final_columns_names=[\"RBD_VV\", \"RBD_VH\", \"RBR_VV\", \"RBR_VH\",\"ΔRVI\"], \n",
    "#         # shp_path=shp_path, \n",
    "#         # is_polygon=is_polygon, \n",
    "#         # extract_sample_feature=extract_sample_feature,\n",
    "#         output_image_path=f\"output/feature_image/{prefix}_sar_avgasc_desc.tif\", \n",
    "#         output_file_path=f\"output/sample_feature/{prefix}_sar_avgasc_desc.csv\")\n",
    "    \n",
    "# if scheme_6:\n",
    "#     #avg asc + desc + glcm\n",
    "#     extract_feature(\n",
    "#         add_bands=False, \n",
    "#         # # input_desc_sar_image_path=input_desc_sar_image_path, \n",
    "#         input_image_path=input_avg_asc_sar_image_path,\n",
    "#         glcm_raster_path=glcm_raster_path,  \n",
    "#         thermal_image_path=\"\", \n",
    "#         dnbr_image_path=\"\", \n",
    "#         final_columns_names=[\"RBD_VV\", \"RBD_VH\", \"RBR_VV\", \"RBR_VH\",\"ΔRVI\",'p1','p2','p3','p4'], \n",
    "#         shp_path=shp_path, \n",
    "#         is_polygon=is_polygon, \n",
    "#         extract_sample_feature=extract_sample_feature,\n",
    "#         output_image_path=f\"output/feature_image/{prefix}_sar_avgasc_desc_glcm.tif\", \n",
    "#         output_file_path=f\"output/sample_feature/{prefix}_sar_avgasc_desc_glcm.csv\")\n",
    "\n",
    "#     #avg asc + desc + glcm"
   ]
  },
  {
   "cell_type": "code",
   "execution_count": null,
   "metadata": {},
   "outputs": [],
   "source": [
    "# final_df.head(10)"
   ]
  },
  {
   "cell_type": "code",
   "execution_count": null,
   "metadata": {},
   "outputs": [],
   "source": []
  },
  {
   "cell_type": "code",
   "execution_count": null,
   "metadata": {},
   "outputs": [],
   "source": [
    "# \tdTRAD\tdNBR\tRBD_VV\tRBD_VH\tRBR_VV\tdod_RBR_VV\tRBR_VH\tdod_RBR_VH\tΔRVI\tΔvv_vh_ratio\tΔRDFI\tRCBI\n",
    "# min\t0.057610\t-0.248237\t-1.953554\t-0.422484\t-0.756728\t0.000416\t-1.267929\t0.000264\t-14.016992\t-9.988633\t-0.875591\t-2.064492\n",
    "# max\t0.958609\t0.739910\t5.741815\t0.638357\t1.805561\t216.663483\t1.513628\t185.473175\t7.720948\t15.615835\t1.214909\t5.602402"
   ]
  }
 ],
 "metadata": {
  "kernelspec": {
   "display_name": "fire_env",
   "language": "python",
   "name": "python3"
  },
  "language_info": {
   "codemirror_mode": {
    "name": "ipython",
    "version": 3
   },
   "file_extension": ".py",
   "mimetype": "text/x-python",
   "name": "python",
   "nbconvert_exporter": "python",
   "pygments_lexer": "ipython3",
   "version": "3.11.11"
  }
 },
 "nbformat": 4,
 "nbformat_minor": 2
}
