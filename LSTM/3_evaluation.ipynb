{
 "cells": [
  {
   "cell_type": "code",
   "execution_count": 1,
   "metadata": {},
   "outputs": [],
   "source": [
    "import os\n",
    "# !pwd\n",
    "\n",
    "from pathlib import Path\n",
    "\n",
    "dir_path = Path(r\"/Users/rabinatwayana/Rabina/CDE II/Wildfire Project/SAR-Burnt-Area-Mapping/\")\n",
    "\n",
    "if dir_path.exists():\n",
    "    os.chdir(dir_path)\n",
    "else:\n",
    "    print(\"Directory does not exist! Please check the path.\")"
   ]
  },
  {
   "cell_type": "code",
   "execution_count": 5,
   "metadata": {},
   "outputs": [],
   "source": [
    "sample_path=\"MachineLearning/sample/eaton_random_sample.shp\"\n",
    "prediction_path=\"DL_LSTM/output/prediction/palisadeslstm_eaton_pred.tif\"\n",
    "\n",
    "from utils import evaluate_model\n",
    "\n"
   ]
  },
  {
   "cell_type": "code",
   "execution_count": 3,
   "metadata": {},
   "outputs": [],
   "source": [
    "import geopandas as gpd\n",
    "import rasterio\n",
    "import numpy as np\n",
    "\n",
    "# Load test points\n",
    "test_points = gpd.read_file(sample_path)\n",
    "\n",
    "# Open prediction raster\n",
    "with rasterio.open(prediction_path) as src:\n",
    "    # Ensure CRS match\n",
    "    if test_points.crs != src.crs:\n",
    "        test_points = test_points.to_crs(src.crs)\n",
    "\n",
    "    # Get coordinates from geometry\n",
    "    coords = [(point.x, point.y) for point in test_points.geometry]\n",
    "\n",
    "    # Sample raster at point locations\n",
    "    predictions = list(src.sample(coords))\n",
    "    predictions = [p[0] if p is not None else np.nan for p in predictions]\n",
    "\n",
    "    # Add predictions to GeoDataFrame\n",
    "    test_points['predicted_class'] = predictions\n",
    "\n"
   ]
  },
  {
   "cell_type": "code",
   "execution_count": 6,
   "metadata": {},
   "outputs": [
    {
     "name": "stdout",
     "output_type": "stream",
     "text": [
      "Accuracy: 0.7663212435233161\n",
      "Confusion Matrix:\n",
      "[[5137  271]\n",
      " [1533  779]]\n",
      "Model performance\n",
      "- Accuracy: 0.7663212435233161\n",
      "- F1 Score: 0.7346712898030195\n",
      "- Precision Score: 0.7617015134179764\n",
      "- Recall Score: 0.7663212435233161\n",
      "- Roc Auc Score: 0.6434133847587069\n"
     ]
    }
   ],
   "source": [
    "from sklearn.metrics import accuracy_score, confusion_matrix\n",
    "\n",
    "# Assume 'class' column contains true labels and 'predicted_class' contains model predictions\n",
    "true_labels = test_points['class']\n",
    "predicted_labels = test_points['predicted_class']\n",
    "\n",
    "# Accuracy\n",
    "accuracy = accuracy_score(true_labels, predicted_labels)\n",
    "print(f'Accuracy: {accuracy}')\n",
    "\n",
    "# Confusion Matrix\n",
    "conf_matrix = confusion_matrix(true_labels, predicted_labels)\n",
    "print('Confusion Matrix:')\n",
    "print(conf_matrix)\n",
    "metrics_train=evaluate_model(true_labels,predicted_labels)\n"
   ]
  },
  {
   "cell_type": "code",
   "execution_count": null,
   "metadata": {},
   "outputs": [],
   "source": []
  }
 ],
 "metadata": {
  "kernelspec": {
   "display_name": "fire_env",
   "language": "python",
   "name": "python3"
  },
  "language_info": {
   "codemirror_mode": {
    "name": "ipython",
    "version": 3
   },
   "file_extension": ".py",
   "mimetype": "text/x-python",
   "name": "python",
   "nbconvert_exporter": "python",
   "pygments_lexer": "ipython3",
   "version": "3.11.11"
  }
 },
 "nbformat": 4,
 "nbformat_minor": 2
}
